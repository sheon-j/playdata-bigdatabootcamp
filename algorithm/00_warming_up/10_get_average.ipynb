{
  "cells": [
    {
      "cell_type": "markdown",
      "source": [
        "![programmers](https://theme.zdassets.com/theme_assets/9483888/f7b9b68643e5a9a3bda6dc5a238152b1d467c9f0.png)\n",
        "# 평균 구하기\n",
        "by [sheon-j](https://github.com/sheon-j)\n",
        "### 문제 설명\n",
        "\n",
        "정수를 담고 있는 배열 arr의 평균값을 return하는 함수, solution을 완성해보세요.\n",
        "\n",
        "### 제한사항\n",
        "\n",
        "- arr은 길이 1 이상, 100 이하인 배열입니다.\n",
        "- arr의 원소는 -10,000 이상 10,000 이하인 정수입니다.\n",
        "\n",
        "### 입출력 예\n",
        "\n",
        "| arr       | return |\n",
        "| --------- | :----: |\n",
        "| [1,2,3,4] |  2.5   |\n",
        "| [5,5]     |   5    |"
      ],
      "metadata": {
        "id": "ufI2ak8I-HFY"
      }
    },
    {
      "cell_type": "code",
      "source": [
        "def solution(arr):\n",
        "    return sum(arr)/len(arr)"
      ],
      "metadata": {
        "id": "9lbO2QWx-za5"
      },
      "execution_count": 5,
      "outputs": []
    },
    {
      "cell_type": "markdown",
      "source": [
        "**실행 결과**\n",
        "\n",
        "```\n",
        "테스트 1\n",
        "입력값 〉\t[1, 2, 3, 4]\n",
        "기댓값 〉\t2.5\n",
        "\n",
        "테스트 2\n",
        "입력값 〉\t[5, 5]\n",
        "기댓값 〉\t5.0\n",
        "```"
      ],
      "metadata": {
        "id": "0K7lq05A_5sj"
      }
    },
    {
      "cell_type": "code",
      "source": [
        "print(solution([1, 2, 3, 4]))\n",
        "print(solution([5, 5]))"
      ],
      "metadata": {
        "colab": {
          "base_uri": "https://localhost:8080/"
        },
        "id": "QwAm0_EZ_xU6",
        "outputId": "23e72f5a-27c4-4740-9f87-de3e8692c885"
      },
      "execution_count": 6,
      "outputs": [
        {
          "output_type": "stream",
          "name": "stdout",
          "text": [
            "2.5\n",
            "5.0\n"
          ]
        }
      ]
    }
  ],
  "metadata": {
    "colab": {
      "collapsed_sections": [],
      "name": "algorithm/0_warming_up/n_testname.ipynb",
      "provenance": []
    },
    "kernelspec": {
      "display_name": "Python 3",
      "name": "python3"
    }
  },
  "nbformat": 4,
  "nbformat_minor": 0
}