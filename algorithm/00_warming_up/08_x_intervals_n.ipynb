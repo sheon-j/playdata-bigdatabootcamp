{
  "cells": [
    {
      "cell_type": "markdown",
      "source": [
        "![programmers](https://theme.zdassets.com/theme_assets/9483888/f7b9b68643e5a9a3bda6dc5a238152b1d467c9f0.png)\n",
        "# x만큼 간격이 있는 n개의 숫자\n",
        "by [sheon-j](https://github.com/sheon-j)\n",
        "### 문제 설명\n",
        "\n",
        "함수 solution은 정수 x와 자연수 n을 입력 받아, x부터 시작해 x씩 증가하는 숫자를 n개 지니는 리스트를 리턴해야 합니다. 다음 제한 조건을 보고, 조건을 만족하는 함수, solution을 완성해주세요.\n",
        "\n",
        "### 제한 조건\n",
        "\n",
        "- x는 -10000000 이상, 10000000 이하인 정수입니다.\n",
        "- n은 1000 이하인 자연수입니다.\n",
        "\n",
        "### 입출력 예\n",
        "\n",
        "| x    | n    | answer       |\n",
        "| ---- | ---- | ------------ |\n",
        "| 2    | 5    | [2,4,6,8,10] |\n",
        "| 4    | 3    | [4,8,12]     |\n",
        "| -4   | 2    | [-4, -8]     |"
      ],
      "metadata": {
        "id": "ufI2ak8I-HFY"
      }
    },
    {
      "cell_type": "code",
      "source": [
        "def solution(x, n):\n",
        "    # 1. 1부터 n+1까지 범위의 정수를 x에 곱\n",
        "    answer = [x * i for i in range(1, n+1)]\n",
        "    return answer"
      ],
      "metadata": {
        "id": "9lbO2QWx-za5"
      },
      "execution_count": 3,
      "outputs": []
    },
    {
      "cell_type": "markdown",
      "source": [
        "**실행 결과**\n",
        "\n",
        "```\n",
        "테스트 1\n",
        "입력값 〉\t2, 5\n",
        "기댓값 〉\t[2, 4, 6, 8, 10]\n",
        "\n",
        "테스트 2\n",
        "입력값 〉\t4, 3\n",
        "기댓값 〉\t[4, 8, 12]\n",
        "\n",
        "테스트 3\n",
        "입력값 〉\t-4, 2\n",
        "기댓값 〉\t[-4, -8]\n",
        "\n",
        "```"
      ],
      "metadata": {
        "id": "0K7lq05A_5sj"
      }
    },
    {
      "cell_type": "code",
      "source": [
        "print(solution(2, 5))\n",
        "print(solution(4, 3))\n",
        "print(solution(-4, 2))"
      ],
      "metadata": {
        "id": "Q5SfV_x3Z8Bt",
        "outputId": "46cafedd-a7c0-480f-ddab-0187b89c39ca",
        "colab": {
          "base_uri": "https://localhost:8080/"
        }
      },
      "execution_count": 4,
      "outputs": [
        {
          "output_type": "stream",
          "name": "stdout",
          "text": [
            "[2, 4, 6, 8, 10]\n",
            "[4, 8, 12]\n",
            "[-4, -8]\n"
          ]
        }
      ]
    }
  ],
  "metadata": {
    "colab": {
      "collapsed_sections": [],
      "name": "algorithm/0_warming_up/n_testname.ipynb",
      "provenance": []
    },
    "kernelspec": {
      "display_name": "Python 3",
      "name": "python3"
    }
  },
  "nbformat": 4,
  "nbformat_minor": 0
}