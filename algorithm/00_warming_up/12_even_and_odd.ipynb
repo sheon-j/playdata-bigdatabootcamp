{
  "cells": [
    {
      "cell_type": "markdown",
      "source": [
        "![programmers](https://theme.zdassets.com/theme_assets/9483888/f7b9b68643e5a9a3bda6dc5a238152b1d467c9f0.png)\n",
        "# 짝수와 홀수\n",
        "by [sheon-j](https://github.com/sheon-j)\n",
        "### 문제 설명\n",
        "\n",
        "정수 num이 짝수일 경우 \"Even\"을 반환하고 홀수인 경우 \"Odd\"를 반환하는 함수, solution을 완성해주세요.\n",
        "\n",
        "### 제한사항\n",
        "\n",
        "- num은 int 범위의 정수입니다.\n",
        "- 0은 짝수입니다.\n",
        "\n",
        "### 입출력 예\n",
        "\n",
        "| num  | return |\n",
        "| ---- | :----: |\n",
        "| 3    | \"Odd\"  |\n",
        "| 4    | \"Even\" |\n",
        "\n"
      ],
      "metadata": {
        "id": "ufI2ak8I-HFY"
      }
    },
    {
      "cell_type": "code",
      "source": [
        "def solution(num):\n",
        "    answer = \"Even\" if num%2==0 else \"Odd\"  # 2로 나눈 나머지가 0이면 짝수 나머지는 홀수\n",
        "    return answer"
      ],
      "metadata": {
        "id": "9lbO2QWx-za5"
      },
      "execution_count": 3,
      "outputs": []
    },
    {
      "cell_type": "markdown",
      "source": [
        "**실행 결과**\n",
        "\n",
        "```\n",
        "테스트 1\n",
        "입력값 〉\t3\n",
        "기댓값 〉\t\"Odd\"\n",
        "\n",
        "테스트 2\n",
        "입력값 〉\t4\n",
        "기댓값 〉\t\"Even\"\n",
        "```"
      ],
      "metadata": {
        "id": "0K7lq05A_5sj"
      }
    },
    {
      "cell_type": "code",
      "source": [
        "print(solution(3))\n",
        "print(solution(4))"
      ],
      "metadata": {
        "colab": {
          "base_uri": "https://localhost:8080/"
        },
        "id": "QwAm0_EZ_xU6",
        "outputId": "b3b3fa54-4774-4628-c385-f19b42ab03b9"
      },
      "execution_count": 4,
      "outputs": [
        {
          "output_type": "stream",
          "name": "stdout",
          "text": [
            "Odd\n",
            "Even\n"
          ]
        }
      ]
    }
  ],
  "metadata": {
    "colab": {
      "collapsed_sections": [],
      "name": "algorithm/0_warming_up/n_testname.ipynb",
      "provenance": []
    },
    "kernelspec": {
      "display_name": "Python 3",
      "name": "python3"
    }
  },
  "nbformat": 4,
  "nbformat_minor": 0
}