{
  "cells": [
    {
      "cell_type": "markdown",
      "source": [
        "![programmers](https://theme.zdassets.com/theme_assets/9483888/f7b9b68643e5a9a3bda6dc5a238152b1d467c9f0.png)\n",
        "# 두 정수 사이의 합\n",
        "by [sheon-j](https://github.com/sheon-j)\n",
        "### 문제 설명\n",
        "\n",
        "두 정수 a, b가 주어졌을 때 a와 b 사이에 속한 모든 정수의 합을 리턴하는 함수, solution을 완성하세요. \n",
        "\n",
        "예를 들어 a = 3, b = 5인 경우, 3 + 4 + 5 = 12이므로 12를 리턴합니다.\n",
        "\n",
        "### 제한 조건\n",
        "\n",
        "- a와 b가 같은 경우는 둘 중 아무 수나 리턴하세요.\n",
        "- a와 b는 -10,000,000 이상 10,000,000 이하인 정수입니다.\n",
        "- a와 b의 대소관계는 정해져있지 않습니다.\n",
        "\n",
        "### 입출력 예\n",
        "\n",
        "| a    | b    | return |\n",
        "| ---- | ---- | ------ |\n",
        "| 3    | 5    | 12     |\n",
        "| 3    | 3    | 3      |\n",
        "| 5    | 3    | 12     |"
      ],
      "metadata": {
        "id": "ufI2ak8I-HFY"
      }
    },
    {
      "cell_type": "code",
      "source": [
        "def solution(a, b):\n",
        "    # 1. 시작점 a와 끝점 b를 지정\n",
        "    a, b = min(a, b), max(a, b)\n",
        "    # 2. a와 b의 범위를 배열화하여 합산\n",
        "    answer = sum(list(range(a, b+1)))\n",
        "    return answer"
      ],
      "metadata": {
        "id": "9lbO2QWx-za5"
      },
      "execution_count": null,
      "outputs": []
    },
    {
      "cell_type": "markdown",
      "source": [
        "```\n",
        "테스트 1\n",
        "입력값 〉3, 5\n",
        "기댓값 〉12\n",
        "\n",
        "테스트 2\n",
        "입력값 〉3, 3\n",
        "기댓값 〉3\n",
        "\n",
        "테스트 3\n",
        "입력값 〉5, 3\n",
        "기댓값 〉12\n",
        "```"
      ],
      "metadata": {
        "id": "0K7lq05A_5sj"
      }
    },
    {
      "cell_type": "code",
      "source": [
        "print(solution(3, 5))\n",
        "print(solution(3, 3))\n",
        "print(solution(5, 3))"
      ],
      "metadata": {
        "id": "QwAm0_EZ_xU6",
        "outputId": "cd9a31a1-0461-42ea-e547-ea0f4ab6c0e0",
        "colab": {
          "base_uri": "https://localhost:8080/"
        }
      },
      "execution_count": null,
      "outputs": [
        {
          "output_type": "stream",
          "name": "stdout",
          "text": [
            "12\n",
            "3\n",
            "12\n"
          ]
        }
      ]
    }
  ],
  "metadata": {
    "colab": {
      "collapsed_sections": [],
      "name": "Colaboratory에 오신 것을 환영합니다",
      "provenance": []
    },
    "kernelspec": {
      "display_name": "Python 3",
      "name": "python3"
    }
  },
  "nbformat": 4,
  "nbformat_minor": 0
}