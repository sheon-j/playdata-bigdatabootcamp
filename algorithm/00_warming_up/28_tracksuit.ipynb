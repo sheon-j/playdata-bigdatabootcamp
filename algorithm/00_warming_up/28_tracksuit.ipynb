{
  "cells": [
    {
      "cell_type": "markdown",
      "source": [
        "![programmers](https://theme.zdassets.com/theme_assets/9483888/f7b9b68643e5a9a3bda6dc5a238152b1d467c9f0.png)\n",
        "# 체육복\n",
        "\n",
        "by [sheon-j](https://github.com/sheon-j)\n",
        "\n",
        "### 문제 설명\n",
        "\n",
        "점심시간에 도둑이 들어, 일부 학생이 체육복을 도난당했습니다. \n",
        "\n",
        "다행히 여벌 체육복이 있는 학생이 이들에게 체육복을 빌려주려 합니다. \n",
        "\n",
        "학생들의 번호는 체격 순으로 매겨져 있어, 바로 앞번호의 학생이나 바로 뒷번호의 학생에게만 체육복을 빌려줄 수 있습니다. \n",
        "\n",
        "예를 들어, 4번 학생은 3번 학생이나 5번 학생에게만 체육복을 빌려줄 수 있습니다. \n",
        "\n",
        "체육복이 없으면 수업을 들을 수 없기 때문에 체육복을 적절히 빌려 최대한 많은 학생이 체육수업을 들어야 합니다.\n",
        "\n",
        "전체 학생의 수 n, 체육복을 도난당한 학생들의 번호가 담긴 배열 lost, 여벌의 체육복을 가져온 학생들의 번호가 담긴 배열 reserve가 매개변수로 주어질 때, 체육수업을 들을 수 있는 학생의 최댓값을 return 하도록 solution 함수를 작성해주세요.\n",
        "\n",
        "### 제한사항\n",
        "\n",
        "- 전체 학생의 수는 2명 이상 30명 이하입니다.\n",
        "- 체육복을 도난당한 학생의 수는 1명 이상 n명 이하이고 중복되는 번호는 없습니다.\n",
        "- 여벌의 체육복을 가져온 학생의 수는 1명 이상 n명 이하이고 중복되는 번호는 없습니다.\n",
        "- 여벌 체육복이 있는 학생만 다른 학생에게 체육복을 빌려줄 수 있습니다.\n",
        "- 여벌 체육복을 가져온 학생이 체육복을 도난당했을 수 있습니다. 이때 이 학생은 체육복을 하나만 도난당했다고 가정하며, 남은 체육복이 하나이기에 다른 학생에게는 체육복을 빌려줄 수 없습니다.\n",
        "\n",
        "### 입출력 예\n",
        "\n",
        "| n    | lost   | reserve   | return |\n",
        "| ---- | ------ | --------- | ------ |\n",
        "| 5    | [2, 4] | [1, 3, 5] | 5      |\n",
        "| 5    | [2, 4] | [3]       | 4      |\n",
        "| 3    | [3]    | [1]       | 2      |\n",
        "\n",
        "### 입출력 예 설명\n",
        "\n",
        "* **예제 #1**\n",
        "  1번 학생이 2번 학생에게 체육복을 빌려주고, 3번 학생이나 5번 학생이 4번 학생에게 체육복을 빌려주면 학생 5명이 체육수업을 들을 수 있습니다.\n",
        "\n",
        "* **예제 #2**\n",
        "  3번 학생이 2번 학생이나 4번 학생에게 체육복을 빌려주면 학생 4명이 체육수업을 들을 수 있습니다.\n",
        "\n",
        "[출처](http://hsin.hr/coci/archive/2009_2010/contest6_tasks.pdf)"
      ],
      "metadata": {
        "id": "ufI2ak8I-HFY"
      }
    },
    {
      "cell_type": "code",
      "source": [
        "def solution(n, lost, reserve):\n",
        "    # 여벌 체육복을 가져온 학생이 체육복을 도난당했을 수 있습니다\n",
        "    set_lost = list(set(lost) - set(reserve))\n",
        "    # 남은 체육복이 하나이기에 다른 학생에게는 체육복을 빌려줄 수 없습니다.\n",
        "    set_reserve = list(set(reserve) - set(lost))\n",
        "    \n",
        "    lost_cnt = len(set_lost)\n",
        "\n",
        "    for i in set_lost:\n",
        "        for j in set_reserve:\n",
        "            # i가 여벌옷을 받을 수 있는 경우\n",
        "            if i in (j-1, j+1):\n",
        "                lost_cnt -= 1\n",
        "                # 여벌옷 리스트에서 제거\n",
        "                set_reserve.remove(j)\n",
        "                break\n",
        "    answer = n-lost_cnt\n",
        "    return answer"
      ],
      "metadata": {
        "id": "PA-NhnHjLRMR"
      },
      "execution_count": 1,
      "outputs": []
    },
    {
      "cell_type": "markdown",
      "source": [
        "**실행 결과**\n",
        "\n",
        "```\n",
        "테스트 1\n",
        "입력값 〉\t5, [2, 4], [1, 3, 5]\n",
        "기댓값 〉\t5\n",
        "\n",
        "테스트 2\n",
        "입력값 〉\t5, [2, 4], [3]\n",
        "기댓값 〉\t4\n",
        "```"
      ],
      "metadata": {
        "id": "0K7lq05A_5sj"
      }
    },
    {
      "cell_type": "code",
      "source": [
        "print(\n",
        "    solution(5, [2, 4], [1, 3, 5]),\n",
        "    solution(5, [2, 4], [3]),\n",
        "    sep=\"\\n\"\n",
        ")"
      ],
      "metadata": {
        "colab": {
          "base_uri": "https://localhost:8080/"
        },
        "id": "QwAm0_EZ_xU6",
        "outputId": "4aa437fe-d6d9-4d13-8bba-b377f403bf0d"
      },
      "execution_count": 3,
      "outputs": [
        {
          "output_type": "stream",
          "name": "stdout",
          "text": [
            "5\n",
            "4\n"
          ]
        }
      ]
    }
  ],
  "metadata": {
    "colab": {
      "collapsed_sections": [],
      "name": "algorithm/0_warming_up/n_testname.ipynb",
      "provenance": []
    },
    "kernelspec": {
      "display_name": "Python 3",
      "name": "python3"
    }
  },
  "nbformat": 4,
  "nbformat_minor": 0
}
