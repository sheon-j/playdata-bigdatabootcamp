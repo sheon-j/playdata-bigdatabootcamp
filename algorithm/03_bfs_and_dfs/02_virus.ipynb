{
  "cells": [
    {
      "cell_type": "markdown",
      "metadata": {
        "id": "view-in-github",
        "colab_type": "text"
      },
      "source": [
        "<a href=\"https://colab.research.google.com/github/sheon-j/playdata-bigdatabootcamp/blob/main/algorithm/03_bfs_and_dfs/02_virus.ipynb\" target=\"_parent\"><img src=\"https://colab.research.google.com/assets/colab-badge.svg\" alt=\"Open In Colab\"/></a>"
      ]
    },
    {
      "cell_type": "markdown",
      "source": [
        "![baekjoon](https://d2gd6pc034wcta.cloudfront.net/images/logo@2x.png)\n",
        "# 바이러스\n",
        "\n",
        "by [sheon-j](https://github.com/sheon-j)\n",
        "\n",
        "### 문제\n",
        "\n",
        "신종 바이러스인 웜 바이러스는 네트워크를 통해 전파된다. 한 컴퓨터가 웜 바이러스에 걸리면 그 컴퓨터와 네트워크 상에서 연결되어 있는 모든 컴퓨터는 웜 바이러스에 걸리게 된다.\n",
        "\n",
        "예를 들어 7대의 컴퓨터가 <그림 1>과 같이 네트워크 상에서 연결되어 있다고 하자. 1번 컴퓨터가 웜 바이러스에 걸리면 웜 바이러스는 2번과 5번 컴퓨터를 거쳐 3번과 6번 컴퓨터까지 전파되어 2, 3, 5, 6 네 대의 컴퓨터는 웜 바이러스에 걸리게 된다. 하지만 4번과 7번 컴퓨터는 1번 컴퓨터와 네트워크상에서 연결되어 있지 않기 때문에 영향을 받지 않는다.\n",
        "\n",
        "![img](https://www.acmicpc.net/upload/images/zmMEZZ8ioN6rhCdHmcIT4a7.png)\n",
        "\n",
        "어느 날 1번 컴퓨터가 웜 바이러스에 걸렸다. 컴퓨터의 수와 네트워크 상에서 서로 연결되어 있는 정보가 주어질 때, 1번 컴퓨터를 통해 웜 바이러스에 걸리게 되는 컴퓨터의 수를 출력하는 프로그램을 작성하시오.\n",
        "\n",
        "### 입력\n",
        "\n",
        "첫째 줄에는 컴퓨터의 수가 주어진다. 컴퓨터의 수는 100 이하이고 각 컴퓨터에는 1번 부터 차례대로 번호가 매겨진다. 둘째 줄에는 네트워크 상에서 직접 연결되어 있는 컴퓨터 쌍의 수가 주어진다. 이어서 그 수만큼 한 줄에 한 쌍씩 네트워크 상에서 직접 연결되어 있는 컴퓨터의 번호 쌍이 주어진다.\n",
        "\n",
        "### 출력\n",
        "\n",
        "1번 컴퓨터가 웜 바이러스에 걸렸을 때, 1번 컴퓨터를 통해 웜 바이러스에 걸리게 되는 컴퓨터의 수를 첫째 줄에 출력한다.\n",
        "\n",
        "### 예제 입력 1\n",
        "\n",
        "```\n",
        "7\n",
        "6\n",
        "1 2\n",
        "2 3\n",
        "1 5\n",
        "5 2\n",
        "5 6\n",
        "4 7\n",
        "```\n",
        "\n",
        "### 예제 출력 1 \n",
        "\n",
        "```\n",
        "4\n",
        "```"
      ],
      "metadata": {
        "id": "ufI2ak8I-HFY"
      }
    },
    {
      "cell_type": "code",
      "source": [
        "from sys import stdin\n",
        "from collections import deque\n",
        "\n",
        "input = stdin.readline()\n",
        "# 메타데이터 맵핑\n",
        "n = int(input())  # 정점 개수\n",
        "m = int(input())  # 간선 개수\n",
        "\n",
        "# 인접 리스트 방식 그래프 생성\n",
        "# 정점 개수(n) 만큼의 그래프 생성\n",
        "graph = [[] for _ in range(n + 1)]\n",
        "# 간선 개수(m) 만큼의 반복\n",
        "for _ in range(m):\n",
        "    # 연결된 정점 매핑 index - edge\n",
        "    edge = list(map(int, input().split()))\n",
        "    graph[edge[0]].append(edge[1])\n",
        "    graph[edge[1]].append(edge[0])\n",
        "# 순차적 탐색을 위해 edge를 정렬한다\n",
        "graph = [sorted(edge) for edge in graph]\n",
        "\n",
        "   \n",
        "# 깊이 우선 탐색 (재귀 함수 이용)\n",
        "def dfs(v=1, visited=[]):\n",
        "    # 시작 정점(v) 탐색 등록\n",
        "    visited += [v]\n",
        "    # 기준 정점의 0번 edge 부터 탐색\n",
        "    for i in graph[v]:\n",
        "        # 0번 edge가 탐색 전이라면\n",
        "        if not i in visited:\n",
        "            # 0번 깊이 우선 탐색\n",
        "            dfs(i, visited)\n",
        "    return visited\n",
        "# 1번 컴퓨터를 통해 걸린 컴퓨터 수(1번 컴퓨터 제외)\n",
        "print(len(dfs())-1)"
      ],
      "metadata": {
        "id": "ZrXwY_4Rrwo3",
        "colab": {
          "base_uri": "https://localhost:8080/"
        },
        "outputId": "8907dc9e-4602-4910-bbd8-6270531885a1"
      },
      "execution_count": 19,
      "outputs": [
        {
          "output_type": "stream",
          "name": "stdout",
          "text": [
            "7\n",
            "6\n",
            "1 2\n",
            "2 3\n",
            "1 5\n",
            "5 2\n",
            "5 6\n",
            "4 7\n",
            "4\n"
          ]
        }
      ]
    }
  ],
  "metadata": {
    "colab": {
      "collapsed_sections": [],
      "name": "algorithm/0_warming_up/n_testname.ipynb",
      "provenance": [],
      "include_colab_link": true
    },
    "kernelspec": {
      "display_name": "Python 3",
      "name": "python3"
    }
  },
  "nbformat": 4,
  "nbformat_minor": 0
}