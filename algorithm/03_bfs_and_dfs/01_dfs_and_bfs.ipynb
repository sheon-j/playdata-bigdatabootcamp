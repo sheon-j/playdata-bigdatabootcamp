{
  "cells": [
    {
      "cell_type": "markdown",
      "metadata": {
        "id": "view-in-github",
        "colab_type": "text"
      },
      "source": [
        "<a href=\"https://colab.research.google.com/github/sheon-j/playdata-bigdatabootcamp/blob/main/algorithm/03_bfs_and_dfs/01_dfs_and_bfs.ipynb\" target=\"_parent\"><img src=\"https://colab.research.google.com/assets/colab-badge.svg\" alt=\"Open In Colab\"/></a>"
      ]
    },
    {
      "cell_type": "markdown",
      "source": [
        "![baekjoon](https://d2gd6pc034wcta.cloudfront.net/images/logo@2x.png)\n",
        "# DFS와 BFS\n",
        "\n",
        "by [sheon-j](https://github.com/sheon-j)\n",
        "\n",
        "### 문제\n",
        "\n",
        "그래프를 DFS로 탐색한 결과와 BFS로 탐색한 결과를 출력하는 프로그램을 작성하시오. 단, 방문할 수 있는 정점이 여러 개인 경우에는 정점 번호가 작은 것을 먼저 방문하고, 더 이상 방문할 수 있는 점이 없는 경우 종료한다. 정점 번호는 1번부터 N번까지이다.\n",
        "\n",
        "### 입력\n",
        "\n",
        "첫째 줄에 정점의 개수 N(1 ≤ N ≤ 1,000), 간선의 개수 M(1 ≤ M ≤ 10,000), 탐색을 시작할 정점의 번호 V가 주어진다. 다음 M개의 줄에는 간선이 연결하는 두 정점의 번호가 주어진다. 어떤 두 정점 사이에 여러 개의 간선이 있을 수 있다. 입력으로 주어지는 간선은 양방향이다.\n",
        "\n",
        "### 출력\n",
        "\n",
        "첫째 줄에 DFS를 수행한 결과를, 그 다음 줄에는 BFS를 수행한 결과를 출력한다. V부터 방문된 점을 순서대로 출력하면 된다.\n",
        "\n",
        "### 예제 입력 1\n",
        "\n",
        "```\n",
        "4 5 1\n",
        "1 2\n",
        "1 3\n",
        "1 4\n",
        "2 4\n",
        "3 4\n",
        "```\n",
        "\n",
        "### 예제 출력 1\n",
        "\n",
        "```\n",
        "1 2 4 3\n",
        "1 2 3 4\n",
        "```\n",
        "\n",
        "### 예제 입력 2 \n",
        "\n",
        "```\n",
        "5 5 3\n",
        "5 4\n",
        "5 2\n",
        "1 2\n",
        "3 4\n",
        "3 1\n",
        "```\n",
        "\n",
        "### 예제 출력 2\n",
        "\n",
        "```\n",
        "3 1 2 5 4\n",
        "3 1 4 2 5\n",
        "```\n",
        "\n",
        "### 예제 입력 3\n",
        "\n",
        "```\n",
        "1000 1 1000\n",
        "999 1000\n",
        "```\n",
        "\n",
        "### 예제 출력 3\n",
        "\n",
        "```\n",
        "1000 999\n",
        "1000 999\n",
        "```"
      ],
      "metadata": {
        "id": "ufI2ak8I-HFY"
      }
    },
    {
      "cell_type": "code",
      "source": [
        "from sys import stdin\n",
        "from collections import deque\n",
        "\n",
        "input = stdin.readline()\n",
        "# 메타데이터 맵핑\n",
        "n, m, v = map(int, input().split())\n",
        "\n",
        "# 인접 리스트 방식 그래프 생성\n",
        "# 정점 개수(n) 만큼의 그래프 생성\n",
        "graph = [[] for _ in range(n + 1)]\n",
        "# 간선 개수(m) 만큼의 반복\n",
        "for _ in range(m):\n",
        "    # 연결된 정점 매핑 index - edge\n",
        "    edge = list(map(int, input().split()))\n",
        "    graph[edge[0]].append(edge[1])\n",
        "    graph[edge[1]].append(edge[0])\n",
        "# 순차적 탐색을 위해 edge를 정렬한다\n",
        "graph = [sorted(edge) for edge in graph]\n",
        "\n",
        "   \n",
        "# 깊이 우선 탐색 (재귀 함수 이용)\n",
        "def dfs(v, visited=[]):\n",
        "    # 시작 정점(v) 탐색 등록\n",
        "    visited += [v]\n",
        "    # 기준 정점의 0번 edge 부터 탐색\n",
        "    for i in graph[v]:\n",
        "        # 0번 edge가 탐색 전이라면\n",
        "        if not i in visited:\n",
        "            # 0번 깊이 우선 탐색\n",
        "            dfs(i, visited)\n",
        "    return visited\n",
        "\n",
        "# 넓이 우선 탐색 (queue 이용)\n",
        "def bfs(v):\n",
        "    # 시작 정점(v) 탐색 등록\n",
        "    visited = [v]\n",
        "    # 시작 정점(v) 대기열 등록\n",
        "    queue = deque([v])\n",
        "\n",
        "    while queue:\n",
        "        # 대기열 0번 지우기\n",
        "        n = queue.popleft()\n",
        "        # 0번 edge 부터 탐색\n",
        "        for i in graph[n]:\n",
        "            # edge가 탐색 전이라면\n",
        "            if not i in visited:\n",
        "                # 탐색 등록\n",
        "                visited.append(i)\n",
        "                # 대기열 등록\n",
        "                queue.append(i)\n",
        "\n",
        "    return visited\n",
        "\n",
        "print(*dfs(v))\n",
        "print(*bfs(v))"
      ],
      "metadata": {
        "id": "ZrXwY_4Rrwo3",
        "outputId": "93ed036c-e1ca-4f22-9d93-023f3fd3a5af",
        "colab": {
          "base_uri": "https://localhost:8080/"
        }
      },
      "execution_count": 1,
      "outputs": [
        {
          "output_type": "stream",
          "name": "stdout",
          "text": [
            "5 5 3\n",
            "5 4\n",
            "5 2\n",
            "1 2\n",
            "3 4\n",
            "3 1\n",
            "3 1 2 5 4\n",
            "3 1 4 2 5\n"
          ]
        }
      ]
    }
  ],
  "metadata": {
    "colab": {
      "collapsed_sections": [],
      "name": "algorithm/0_warming_up/n_testname.ipynb",
      "provenance": [],
      "include_colab_link": true
    },
    "kernelspec": {
      "display_name": "Python 3",
      "name": "python3"
    }
  },
  "nbformat": 4,
  "nbformat_minor": 0
}