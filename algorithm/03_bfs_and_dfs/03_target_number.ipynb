{
  "cells": [
    {
      "cell_type": "markdown",
      "metadata": {
        "id": "view-in-github",
        "colab_type": "text"
      },
      "source": [
        "<a href=\"https://colab.research.google.com/github/sheon-j/playdata-bigdatabootcamp/blob/main/algorithm/03_bfs_and_dfs/03_target_number.ipynb\" target=\"_parent\"><img src=\"https://colab.research.google.com/assets/colab-badge.svg\" alt=\"Open In Colab\"/></a>"
      ]
    },
    {
      "cell_type": "markdown",
      "source": [
        "![programmers](https://theme.zdassets.com/theme_assets/9483888/f7b9b68643e5a9a3bda6dc5a238152b1d467c9f0.png)\n",
        "# 타겟 넘버\n",
        "\n",
        "by [sheon-j](https://github.com/sheon-j)\n",
        "\n",
        "### 문제 설명\n",
        "\n",
        "n개의 음이 아닌 정수들이 있습니다. 이 정수들을 순서를 바꾸지 않고 적절히 더하거나 빼서 타겟 넘버를 만들려고 합니다. 예를 들어 [1, 1, 1, 1, 1]로 숫자 3을 만들려면 다음 다섯 방법을 쓸 수 있습니다.\n",
        "\n",
        "```\n",
        "-1+1+1+1+1 = 3\n",
        "+1-1+1+1+1 = 3\n",
        "+1+1-1+1+1 = 3\n",
        "+1+1+1-1+1 = 3\n",
        "+1+1+1+1-1 = 3\n",
        "```\n",
        "\n",
        "사용할 수 있는 숫자가 담긴 배열 numbers, 타겟 넘버 target이 매개변수로 주어질 때 숫자를 적절히 더하고 빼서 타겟 넘버를 만드는 방법의 수를 return 하도록 solution 함수를 작성해주세요.\n",
        "\n",
        "### 제한사항\n",
        "\n",
        "- 주어지는 숫자의 개수는 2개 이상 20개 이하입니다.\n",
        "- 각 숫자는 1 이상 50 이하인 자연수입니다.\n",
        "- 타겟 넘버는 1 이상 1000 이하인 자연수입니다.\n",
        "\n",
        "### 입출력 예\n",
        "\n",
        "| numbers         | target | return |\n",
        "| --------------- | ------ | ------ |\n",
        "| [1, 1, 1, 1, 1] | 3      | 5      |\n",
        "| [4, 1, 2, 1]    | 4      | 2      |\n",
        "\n",
        "### 입출력 예 설명\n",
        "\n",
        "**입출력 예 #1**\n",
        "\n",
        "문제 예시와 같습니다.\n",
        "\n",
        "**입출력 예 #2**\n",
        "\n",
        "```\n",
        "+4+1-2+1 = 4\n",
        "+4-1+2-1 = 4\n",
        "```\n",
        "\n",
        "- 총 2가지 방법이 있으므로, 2를 return 합니다."
      ],
      "metadata": {
        "id": "ufI2ak8I-HFY"
      }
    },
    {
      "cell_type": "code",
      "source": [
        "from itertools import product\n",
        "\n",
        "def solution(numbers, target):\n",
        "    numbers_list = [[-i, i] for i in numbers]\n",
        "    sum_list = [sum(i) for i in product(*numbers_list)]\n",
        "    answer = sum_list.count(target)\n",
        "    return answer"
      ],
      "metadata": {
        "id": "ZrXwY_4Rrwo3"
      },
      "execution_count": 56,
      "outputs": []
    },
    {
      "cell_type": "markdown",
      "source": [
        "\n",
        "테스트 1\n",
        "```\n",
        "입력값 〉\t[1, 1, 1, 1, 1], 3\n",
        "기댓값 〉\t5\n",
        "```\n",
        "테스트 2\n",
        "```\n",
        "입력값 〉\t[4, 1, 2, 1], 4\n",
        "기댓값 〉\t2\n",
        "```"
      ],
      "metadata": {
        "id": "HO9wn3TDVoJa"
      }
    },
    {
      "cell_type": "code",
      "source": [
        "print(\n",
        "    solution([1, 1, 1, 1, 1], 3),\n",
        "    solution([4, 1, 2, 1], 4),\n",
        "    sep='\\n'\n",
        ")"
      ],
      "metadata": {
        "id": "QmAF4tbZTnWq",
        "outputId": "d9b9aa99-59ad-4494-d633-64f612815554",
        "colab": {
          "base_uri": "https://localhost:8080/"
        }
      },
      "execution_count": 58,
      "outputs": [
        {
          "output_type": "stream",
          "name": "stdout",
          "text": [
            "5\n",
            "2\n"
          ]
        }
      ]
    }
  ],
  "metadata": {
    "colab": {
      "collapsed_sections": [],
      "name": "algorithm/0_warming_up/n_testname.ipynb",
      "provenance": [],
      "include_colab_link": true
    },
    "kernelspec": {
      "display_name": "Python 3",
      "name": "python3"
    }
  },
  "nbformat": 4,
  "nbformat_minor": 0
}