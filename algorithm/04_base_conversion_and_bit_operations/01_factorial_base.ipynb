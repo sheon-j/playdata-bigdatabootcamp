{
  "cells": [
    {
      "cell_type": "markdown",
      "metadata": {
        "id": "view-in-github",
        "colab_type": "text"
      },
      "source": [
        "<a href=\"https://colab.research.google.com/github/sheon-j/playdata-bigdatabootcamp/blob/main/algorithm/04_base_conversion_and_bit_operations/01_factorial_base.ipynb\" target=\"_parent\"><img src=\"https://colab.research.google.com/assets/colab-badge.svg\" alt=\"Open In Colab\"/></a>"
      ]
    },
    {
      "cell_type": "markdown",
      "source": [
        "![programmers](https://d2gd6pc034wcta.cloudfront.net/images/logo@2x.png)\n",
        "# 팩토리얼 진법\n",
        "\n",
        "by [sheon-j](https://github.com/sheon-j)\n",
        "\n",
        "### 문제\n",
        "\n",
        "상근이는 보통 사람들이 사는 것과는 조금 다른 삶을 사는 사람이다. 상근이는 이런 사람들의 시선이 부담스럽기 때문에, 자신만의 숫자를 개발하기로 했다. 바로 그 이름은 팩토리얼 진법이다. 팩토리얼 진법은 각 자리에 올 수 있는 숫자는 0부터 9까지로 10진법과 거의 비슷하다. 하지만, 읽는 법은 조금 다르다. 팩토리얼 진법에서는 i번 자리의 값을 ai×i!로 계산한다. 즉, 팩토리얼 진법에서 719는 10진법에서 53과 같다. 그 이유는 7×3! + 1×2! + 9×1! = 53이기 때문이다.\n",
        "\n",
        "팩토리얼 진법으로 작성한 숫자가 주어졌을 때, 10진법으로 읽은 값을 구하는 프로그램을 작성하시오. \n",
        "\n",
        "### 입력\n",
        "\n",
        "입력은 여러 개의 테스트 케이스로 이루어져 있다. 각 테스트 케이스는 한 줄로 이루어져 있고, 길이가 최대 5자리인 팩토리얼 진법 숫자가 주어진다. 입력의 마지막 줄에는 0이 하나 주어진다.\n",
        "\n",
        "### 출력\n",
        "\n",
        "각 테스트 케이스에 대해서, 입력으로 주어진 팩토리얼 진법 숫자를 10진법으로 읽은 값을 출력한다.\n",
        "\n",
        "### 예제 입력 1\n",
        "\n",
        "```\n",
        "719\n",
        "1\n",
        "15\n",
        "110\n",
        "102\n",
        "0\n",
        "```\n",
        "\n",
        "### 예제 출력 1\n",
        "\n",
        "```\n",
        "53\n",
        "1\n",
        "7\n",
        "8\n",
        "8\n",
        "```"
      ],
      "metadata": {
        "id": "ufI2ak8I-HFY"
      }
    },
    {
      "cell_type": "code",
      "source": [
        "# 팩토리얼 라이브러리와 stdin 라이브러리 임포트\n",
        "from sys import stdin\n",
        "from math import factorial\n",
        "\n",
        "while True:\n",
        "    # 입력 값을 역순으로 초기화 (뒷 자리부터 팩토리얼이 올라감)\n",
        "    # input = stdin.readline()\n",
        "    n = input().strip()[::-1]\n",
        "    \n",
        "    # 입력 값이 0(False)이라면 break\n",
        "    if not int(n):\n",
        "        break    \n",
        "    \n",
        "    # list comprehension 을 통해 각 자리 수에 팩토리얼 곱 매핑\n",
        "    print(sum([int(v) * factorial(i+1) for i, v in enumerate(n)]))"
      ],
      "metadata": {
        "id": "ZrXwY_4Rrwo3",
        "outputId": "4ed8c400-ad8a-4573-b8b1-b455d77c3a1c",
        "colab": {
          "base_uri": "https://localhost:8080/"
        }
      },
      "execution_count": 1,
      "outputs": [
        {
          "name": "stdout",
          "output_type": "stream",
          "text": [
            "719\n",
            "53\n",
            "1\n",
            "1\n",
            "15\n",
            "7\n",
            "110\n",
            "8\n",
            "102\n",
            "8\n",
            "0\n"
          ]
        }
      ]
    }
  ],
  "metadata": {
    "colab": {
      "collapsed_sections": [],
      "name": "algorithm/0_warming_up/n_testname.ipynb",
      "provenance": [],
      "include_colab_link": true
    },
    "kernelspec": {
      "display_name": "Python 3",
      "name": "python3"
    }
  },
  "nbformat": 4,
  "nbformat_minor": 0
}