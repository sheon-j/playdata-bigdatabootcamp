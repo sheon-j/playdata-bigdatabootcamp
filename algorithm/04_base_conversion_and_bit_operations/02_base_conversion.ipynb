{
  "cells": [
    {
      "cell_type": "markdown",
      "metadata": {
        "id": "view-in-github",
        "colab_type": "text"
      },
      "source": [
        "<a href=\"https://colab.research.google.com/github/sheon-j/playdata-bigdatabootcamp/blob/main/algorithm/04_base_conversion_and_bit_operations/02_base_conversion.ipynb\" target=\"_parent\"><img src=\"https://colab.research.google.com/assets/colab-badge.svg\" alt=\"Open In Colab\"/></a>"
      ]
    },
    {
      "cell_type": "markdown",
      "source": [
        "![programmers](https://d2gd6pc034wcta.cloudfront.net/images/logo@2x.png)\n",
        "# 진법 변환\n",
        "\n",
        "by [sheon-j](https://github.com/sheon-j)\n",
        "\n",
        "### 문제\n",
        "\n",
        "B진법 수 N이 주어진다. 이 수를 10진법으로 바꿔 출력하는 프로그램을 작성하시오.\n",
        "\n",
        "10진법을 넘어가는 진법은 숫자로 표시할 수 없는 자리가 있다. 이런 경우에는 다음과 같이 알파벳 대문자를 사용한다.\n",
        "\n",
        "A: 10, B: 11, ..., F: 15, ..., Y: 34, Z: 35\n",
        "\n",
        "### 입력\n",
        "\n",
        "첫째 줄에 N과 B가 주어진다. (2 ≤ B ≤ 36)\n",
        "\n",
        "B진법 수 N을 10진법으로 바꾸면, 항상 10억보다 작거나 같다.\n",
        "\n",
        "### 출력\n",
        "\n",
        "첫째 줄에 B진법 수 N을 10진법으로 출력한다.\n",
        "\n",
        "### 예제 입력 1\n",
        "\n",
        "```\n",
        "ZZZZZ 36\n",
        "```\n",
        "\n",
        "### 예제 출력 1\n",
        "\n",
        "```\n",
        "60466175\n",
        "```"
      ],
      "metadata": {
        "id": "ufI2ak8I-HFY"
      }
    },
    {
      "cell_type": "code",
      "source": [
        "# 36진법 집합을 위한 라이브러리\n",
        "from string import digits, ascii_uppercase\n",
        "\n",
        "# 36진법 string ([0-9A-Z])\n",
        "base_map = digits + ascii_uppercase\n",
        "\n",
        "# 입력 값\n",
        "B, N = input().split()\n",
        "\n",
        "# 역순된 B 값을 base_map에 매핑하여 N진법 계산된 배열\n",
        "answer = [base_map.index(v) * int(N)**(i) \n",
        "          for i, v in enumerate(B[::-1])]\n",
        "\n",
        "# 출력 값\n",
        "print(sum(answer))"
      ],
      "metadata": {
        "id": "ZrXwY_4Rrwo3",
        "colab": {
          "base_uri": "https://localhost:8080/"
        },
        "outputId": "a26c8e8b-d1c3-48a2-8db5-ccaeab2d82c2"
      },
      "execution_count": 60,
      "outputs": [
        {
          "output_type": "stream",
          "name": "stdout",
          "text": [
            "ZZZZZ 36\n",
            "60466175\n"
          ]
        }
      ]
    }
  ],
  "metadata": {
    "colab": {
      "collapsed_sections": [],
      "name": "algorithm/0_warming_up/n_testname.ipynb",
      "provenance": [],
      "include_colab_link": true
    },
    "kernelspec": {
      "display_name": "Python 3",
      "name": "python3"
    }
  },
  "nbformat": 4,
  "nbformat_minor": 0
}