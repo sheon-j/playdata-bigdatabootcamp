{
  "cells": [
    {
      "cell_type": "markdown",
      "metadata": {
        "id": "view-in-github",
        "colab_type": "text"
      },
      "source": [
        "<a href=\"https://colab.research.google.com/github/sheon-j/playdata-bigdatabootcamp/blob/main/algorithm/02_brute_force_and_binary_search/02_finding_decimal_2.ipynb\" target=\"_parent\"><img src=\"https://colab.research.google.com/assets/colab-badge.svg\" alt=\"Open In Colab\"/></a>"
      ]
    },
    {
      "cell_type": "markdown",
      "source": [
        "![programmers](https://theme.zdassets.com/theme_assets/9483888/f7b9b68643e5a9a3bda6dc5a238152b1d467c9f0.png)\n",
        "# 소수 찾기\n",
        "\n",
        "by [sheon-j](https://github.com/sheon-j)\n",
        "\n",
        "### 문제 설명\n",
        "\n",
        "한자리 숫자가 적힌 종이 조각이 흩어져있습니다. 흩어진 종이 조각을 붙여 소수를 몇 개 만들 수 있는지 알아내려 합니다.\n",
        "\n",
        "각 종이 조각에 적힌 숫자가 적힌 문자열 numbers가 주어졌을 때, 종이 조각으로 만들 수 있는 소수가 몇 개인지 return 하도록 solution 함수를 완성해주세요.\n",
        "\n",
        "### 제한사항\n",
        "\n",
        "- numbers는 길이 1 이상 7 이하인 문자열입니다.\n",
        "- numbers는 0~9까지 숫자만으로 이루어져 있습니다.\n",
        "- \"013\"은 0, 1, 3 숫자가 적힌 종이 조각이 흩어져있다는 의미입니다.\n",
        "\n",
        "### 입출력 예\n",
        "\n",
        "| numbers | return |\n",
        "| ------- | ------ |\n",
        "| \"17\"    | 3      |\n",
        "| \"011\"   | 2      |\n",
        "\n",
        "### 입출력 예 설명\n",
        "\n",
        "예제 #1\n",
        "[1, 7]으로는 소수 [7, 17, 71]를 만들 수 있습니다.\n",
        "\n",
        "예제 #2\n",
        "[0, 1, 1]으로는 소수 [11, 101]를 만들 수 있습니다.\n",
        "\n",
        "- 11과 011은 같은 숫자로 취급합니다.\n",
        "\n",
        "[출처](http://2009.nwerc.eu/results/nwerc09.pdf)"
      ],
      "metadata": {
        "id": "ufI2ak8I-HFY"
      }
    },
    {
      "cell_type": "code",
      "source": [
        "from itertools import permutations\n",
        "def solution(numbers):\n",
        "    # 순열을 위한 set\n",
        "    perm = set()\n",
        "    # string 자리를 순열\n",
        "    for i in range(1, len(numbers)+1):\n",
        "        for j in permutations(numbers, i):\n",
        "            # int type으로 set에 add\n",
        "            perm.add(int(''.join(j)))\n",
        "\n",
        "    # 소수찿기\n",
        "    max_perm = max(perm)\n",
        "    # 에라토스테네스의 체\n",
        "    decimal = set(range(2, max_perm+1))\n",
        "    for k in range(2, max_perm+1):\n",
        "        if k in decimal:\n",
        "            decimal -= set(range(k*2, max_perm+1, k))\n",
        "\n",
        "    answer = len(decimal & perm)\n",
        "    return answer"
      ],
      "metadata": {
        "id": "ZCT3oQCRf06Z"
      },
      "execution_count": 2,
      "outputs": []
    },
    {
      "cell_type": "markdown",
      "source": [
        "**실행 결과**\n",
        "\n",
        "```\n",
        "테스트 1\n",
        "입력값 〉\t\"17\"\n",
        "기댓값 〉\t3\n",
        "\n",
        "테스트 2\n",
        "입력값 〉\t\"011\"\n",
        "기댓값 〉\t2\n",
        "```"
      ],
      "metadata": {
        "id": "0K7lq05A_5sj"
      }
    },
    {
      "cell_type": "code",
      "source": [
        "print(\n",
        "    solution(\"17\"), \n",
        "    solution(\"011\"), \n",
        "    sep=\"\\n\"\n",
        ")"
      ],
      "metadata": {
        "colab": {
          "base_uri": "https://localhost:8080/"
        },
        "id": "QwAm0_EZ_xU6",
        "outputId": "3dd599c4-1bb3-40c6-d052-01cd269a81a4"
      },
      "execution_count": 3,
      "outputs": [
        {
          "output_type": "stream",
          "name": "stdout",
          "text": [
            "3\n",
            "2\n"
          ]
        }
      ]
    }
  ],
  "metadata": {
    "colab": {
      "collapsed_sections": [],
      "name": "algorithm/0_warming_up/n_testname.ipynb",
      "provenance": [],
      "include_colab_link": true
    },
    "kernelspec": {
      "display_name": "Python 3",
      "name": "python3"
    }
  },
  "nbformat": 4,
  "nbformat_minor": 0
}