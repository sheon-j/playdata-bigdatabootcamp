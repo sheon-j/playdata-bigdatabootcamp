{
  "cells": [
    {
      "cell_type": "markdown",
      "metadata": {
        "id": "view-in-github",
        "colab_type": "text"
      },
      "source": [
        "<a href=\"https://colab.research.google.com/github/sheon-j/playdata-bigdatabootcamp/blob/main/algorithm/02_brute_force_and_binary_search/03_number_card_2.ipynb\" target=\"_parent\"><img src=\"https://colab.research.google.com/assets/colab-badge.svg\" alt=\"Open In Colab\"/></a>"
      ]
    },
    {
      "cell_type": "markdown",
      "source": [
        "![baekjoon](https://d2gd6pc034wcta.cloudfront.net/images/logo@2x.png)\n",
        "# 숫자 카드 2\n",
        "\n",
        "by [sheon-j](https://github.com/sheon-j)\n",
        "\n",
        "### 문제\n",
        "\n",
        "숫자 카드는 정수 하나가 적혀져 있는 카드이다. 상근이는 숫자 카드 N개를 가지고 있다. 정수 M개가 주어졌을 때, 이 수가 적혀있는 숫자 카드를 상근이가 몇 개 가지고 있는지 구하는 프로그램을 작성하시오.\n",
        "\n",
        "### 입력\n",
        "\n",
        "첫째 줄에 상근이가 가지고 있는 숫자 카드의 개수 N(1 ≤ N ≤ 500,000)이 주어진다. 둘째 줄에는 숫자 카드에 적혀있는 정수가 주어진다. 숫자 카드에 적혀있는 수는 -10,000,000보다 크거나 같고, 10,000,000보다 작거나 같다.\n",
        "\n",
        "셋째 줄에는 M(1 ≤ M ≤ 500,000)이 주어진다. 넷째 줄에는 상근이가 몇 개 가지고 있는 숫자 카드인지 구해야 할 M개의 정수가 주어지며, 이 수는 공백으로 구분되어져 있다. 이 수도 -10,000,000보다 크거나 같고, 10,000,000보다 작거나 같다.\n",
        "\n",
        "### 출력\n",
        "\n",
        "첫째 줄에 입력으로 주어진 M개의 수에 대해서, 각 수가 적힌 숫자 카드를 상근이가 몇 개 가지고 있는지를 공백으로 구분해 출력한다.\n",
        "\n",
        "### 예제 입출력\n",
        "\n",
        "| 예제 입력1                                                   | 예제 출력 1     |\n",
        "| ------------------------------------------------------------ | --------------- |\n",
        "| 10 <br />6 3 2 10 10 10 -10 -10 7 3 <br />8 <br />10 9 -5 2 3 4 5 -10 | 3 0 0 1 2 0 0 2 |"
      ],
      "metadata": {
        "id": "ufI2ak8I-HFY"
      }
    },
    {
      "cell_type": "code",
      "source": [
        "n = 10\n",
        "n_card = sorted([6, 3, 2, 10, 10, 10, -10, -10, 7, 3])\n",
        "m = 8\n",
        "m_card = [10, 9, -5, 2, 3, 4, 5, -10]"
      ],
      "metadata": {
        "id": "ZrXwY_4Rrwo3"
      },
      "execution_count": 116,
      "outputs": []
    },
    {
      "cell_type": "code",
      "source": [
        "# Counter 집계 함수를 이용한 풀이\n",
        "\n",
        "from collections import Counter\n",
        "\n",
        "n_count = Counter(n_card)   \n",
        "result = [n_count[i] for i in m_card]\n",
        "print(*result)"
      ],
      "metadata": {
        "id": "9lbO2QWx-za5",
        "colab": {
          "base_uri": "https://localhost:8080/"
        },
        "outputId": "69ec0482-9132-4056-c101-cb52f0136df4"
      },
      "execution_count": 118,
      "outputs": [
        {
          "output_type": "stream",
          "name": "stdout",
          "text": [
            "3 0 0 1 2 0 0 2\n"
          ]
        }
      ]
    },
    {
      "cell_type": "code",
      "source": [
        "# 이진탐색을 이용한 풀이\n",
        "\n",
        "from bisect import bisect_left as left\n",
        "from bisect import bisect_right as right\n",
        "\n",
        "result = [right(n_card, i)-left(n_card, i) for i in m_card]\n",
        "print(*result)"
      ],
      "metadata": {
        "colab": {
          "base_uri": "https://localhost:8080/"
        },
        "id": "QhFe6HvykObq",
        "outputId": "d649d99a-1d7e-46ba-e5ca-96df6e946f07"
      },
      "execution_count": 120,
      "outputs": [
        {
          "output_type": "stream",
          "name": "stdout",
          "text": [
            "3 0 0 1 2 0 0 2\n"
          ]
        }
      ]
    }
  ],
  "metadata": {
    "colab": {
      "collapsed_sections": [],
      "name": "algorithm/0_warming_up/n_testname.ipynb",
      "provenance": [],
      "include_colab_link": true
    },
    "kernelspec": {
      "display_name": "Python 3",
      "name": "python3"
    }
  },
  "nbformat": 4,
  "nbformat_minor": 0
}