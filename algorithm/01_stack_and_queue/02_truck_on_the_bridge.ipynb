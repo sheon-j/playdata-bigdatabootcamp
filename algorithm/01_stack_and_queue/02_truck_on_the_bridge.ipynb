{
  "cells": [
    {
      "cell_type": "markdown",
      "metadata": {
        "id": "view-in-github",
        "colab_type": "text"
      },
      "source": [
        "<a href=\"https://colab.research.google.com/github/sheon-j/playdata-bigdatabootcamp/blob/main/algorithm/1_stack_and_queue/02_truck_on_the_bridge.ipynb\" target=\"_parent\"><img src=\"https://colab.research.google.com/assets/colab-badge.svg\" alt=\"Open In Colab\"/></a>"
      ]
    },
    {
      "cell_type": "markdown",
      "source": [
        "![programmers](https://theme.zdassets.com/theme_assets/9483888/f7b9b68643e5a9a3bda6dc5a238152b1d467c9f0.png)\n",
        "# 다리를 지나는 트럭\n",
        "\n",
        "by [sheon-j](https://github.com/sheon-j)\n",
        "\n",
        "### 문제 설명\n",
        "\n",
        "트럭 여러 대가 강을 가로지르는 일차선 다리를 정해진 순으로 건너려 합니다. 모든 트럭이 다리를 건너려면 최소 몇 초가 걸리는지 알아내야 합니다. 다리에는 트럭이 최대 bridge_length대 올라갈 수 있으며, 다리는 weight 이하까지의 무게를 견딜 수 있습니다. 단, 다리에 완전히 오르지 않은 트럭의 무게는 무시합니다.\n",
        "\n",
        "예를 들어, 트럭 2대가 올라갈 수 있고 무게를 10kg까지 견디는 다리가 있습니다. 무게가 [7, 4, 5, 6]kg인 트럭이 순서대로 최단 시간 안에 다리를 건너려면 다음과 같이 건너야 합니다.\n",
        "\n",
        "| 경과 시간 | 다리를 지난 트럭 | 다리를 건너는 트럭 | 대기 트럭 |\n",
        "| --------- | ---------------- | ------------------ | --------- |\n",
        "| 0         | []               | []                 | [7,4,5,6] |\n",
        "| 1~2       | []               | [7]                | [4,5,6]   |\n",
        "| 3         | [7]              | [4]                | [5,6]     |\n",
        "| 4         | [7]              | [4,5]              | [6]       |\n",
        "| 5         | [7,4]            | [5]                | [6]       |\n",
        "| 6~7       | [7,4,5]          | [6]                | []        |\n",
        "| 8         | [7,4,5,6]        | []                 | []        |\n",
        "\n",
        "따라서, 모든 트럭이 다리를 지나려면 최소 8초가 걸립니다.\n",
        "\n",
        "solution 함수의 매개변수로 다리에 올라갈 수 있는 트럭 수 bridge_length, 다리가 견딜 수 있는 무게 weight, 트럭 별 무게 truck_weights가 주어집니다. 이때 모든 트럭이 다리를 건너려면 최소 몇 초가 걸리는지 return 하도록 solution 함수를 완성하세요.\n",
        "\n",
        "### 제한 조건\n",
        "\n",
        "- bridge_length는 1 이상 10,000 이하입니다.\n",
        "- weight는 1 이상 10,000 이하입니다.\n",
        "- truck_weights의 길이는 1 이상 10,000 이하입니다.\n",
        "- 모든 트럭의 무게는 1 이상 weight 이하입니다.\n",
        "\n",
        "### 입출력 예\n",
        "\n",
        "| bridge_length | weight | truck_weights                   | return |\n",
        "| ------------- | ------ | ------------------------------- | ------ |\n",
        "| 2             | 10     | [7,4,5,6]                       | 8      |\n",
        "| 100           | 100    | [10]                            | 101    |\n",
        "| 100           | 100    | [10,10,10,10,10,10,10,10,10,10] | 110    |\n",
        "\n",
        "[출처](http://icpckorea.org/2016/ONLINE/problem.pdf)"
      ],
      "metadata": {
        "id": "ufI2ak8I-HFY"
      }
    },
    {
      "cell_type": "code",
      "source": [
        "# 실패 시간초과\n",
        "from collections import deque\n",
        "\n",
        "def solution(bridge_length, weight, truck_weights):\n",
        "    trucks = deque(truck_weights)\n",
        "    bridge = deque([0]*bridge_length)\n",
        "    answer = 0\n",
        "\n",
        "    while trucks:\n",
        "        answer += 1\n",
        "        bridge.popleft()\n",
        "        if weight >= sum(bridge) + trucks[0]:\n",
        "            truck = trucks.popleft()\n",
        "            bridge.append(truck)\n",
        "        else:\n",
        "            bridge.append(0)\n",
        "\n",
        "    answer += len(bridge)\n",
        "    return answer"
      ],
      "metadata": {
        "id": "CpwTVsjgNXxy"
      },
      "execution_count": 151,
      "outputs": []
    },
    {
      "cell_type": "markdown",
      "source": [
        "**실행 결과**\n",
        "\n",
        "```\n",
        "테스트 1\n",
        "입력값 〉\t2, 10, [7, 4, 5, 6]\n",
        "기댓값 〉\t8\n",
        "\n",
        "테스트 2\n",
        "입력값 〉\t100, 100, [10]\n",
        "기댓값 〉\t101\n",
        "\n",
        "테스트 3\n",
        "입력값 〉\t100, 100, [10, 10, 10, 10, 10, 10, 10, 10, 10, 10]\n",
        "기댓값 〉\t110\n",
        "\n",
        "```"
      ],
      "metadata": {
        "id": "0K7lq05A_5sj"
      }
    },
    {
      "cell_type": "code",
      "source": [
        "print(\n",
        "    solution(2, 10, [7, 4, 5, 6]),\n",
        "    solution(100, 100, [10]),\n",
        "    solution(100, 100, [10, 10, 10, 10, 10, 10, 10, 10, 10, 10]),\n",
        "    sep=\"\\n\"\n",
        ")"
      ],
      "metadata": {
        "colab": {
          "base_uri": "https://localhost:8080/"
        },
        "id": "jWzmBhgK4auB",
        "outputId": "c0c0682a-1f90-495e-9c48-94b92d0b725b"
      },
      "execution_count": 152,
      "outputs": [
        {
          "output_type": "stream",
          "name": "stdout",
          "text": [
            "8\n",
            "101\n",
            "110\n"
          ]
        }
      ]
    }
  ],
  "metadata": {
    "colab": {
      "collapsed_sections": [],
      "name": "algorithm/0_warming_up/n_testname.ipynb",
      "provenance": [],
      "include_colab_link": true
    },
    "kernelspec": {
      "display_name": "Python 3",
      "name": "python3"
    }
  },
  "nbformat": 4,
  "nbformat_minor": 0
}