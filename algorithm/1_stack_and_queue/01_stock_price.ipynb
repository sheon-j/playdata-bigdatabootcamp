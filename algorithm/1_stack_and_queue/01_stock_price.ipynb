{
  "cells": [
    {
      "cell_type": "markdown",
      "source": [
        "![programmers](https://theme.zdassets.com/theme_assets/9483888/f7b9b68643e5a9a3bda6dc5a238152b1d467c9f0.png)\n",
        "# 주식가격\n",
        "\n",
        "by [sheon-j](https://github.com/sheon-j)\n",
        "\n",
        "### 문제 설명\n",
        "\n",
        "초 단위로 기록된 주식가격이 담긴 배열 prices가 매개변수로 주어질 때, 가격이 떨어지지 않은 기간은 몇 초인지를 return 하도록 solution 함수를 완성하세요.\n",
        "\n",
        "### 제한사항\n",
        "\n",
        "- prices의 각 가격은 1 이상 10,000 이하인 자연수입니다.\n",
        "- prices의 길이는 2 이상 100,000 이하입니다.\n",
        "\n",
        "### 입출력 예\n",
        "\n",
        "| prices          | return          |\n",
        "| --------------- | --------------- |\n",
        "| [1, 2, 3, 2, 3] | [4, 3, 1, 1, 0] |\n",
        "\n",
        "### 입출력 예 설명\n",
        "\n",
        "- 1초 시점의 1은 끝까지 가격이 떨어지지 않았습니다.\n",
        "- 2초 시점의 2은 끝까지 가격이 떨어지지 않았습니다.\n",
        "- 3초 시점의 3은 1초뒤에 가격이 떨어집니다. 따라서 1초간 가격이 떨어지지 않은 것으로 봅니다.\n",
        "- 4초 시점의 2은 1초간 가격이 떨어지지 않았습니다.\n",
        "- 5초 시점의 3은 0초간 가격이 떨어지지 않았습니다."
      ],
      "metadata": {
        "id": "ufI2ak8I-HFY"
      }
    },
    {
      "cell_type": "code",
      "source": [
        "from collections import deque\n",
        "\n",
        "def solution(prices):\n",
        "    # 자료구조 deque\n",
        "    prices = deque(prices)\n",
        "    answer = []\n",
        "    \n",
        "    while prices:\n",
        "        pivot = prices.popleft()\n",
        "        sec = 0\n",
        "        for price in prices:\n",
        "            sec += 1\n",
        "            if pivot > price:\n",
        "                break\n",
        "        answer.append(sec)\n",
        "    return answer"
      ],
      "metadata": {
        "id": "lTxdTbWNoOdH",
        "outputId": "81f2f1cf-6bcc-4e75-cde7-8c8a33c4806a",
        "colab": {
          "base_uri": "https://localhost:8080/"
        }
      },
      "execution_count": 25,
      "outputs": [
        {
          "output_type": "execute_result",
          "data": {
            "text/plain": [
              "[4, 3, 1, 1, 0]"
            ]
          },
          "metadata": {},
          "execution_count": 25
        }
      ]
    },
    {
      "cell_type": "markdown",
      "source": [
        "**실행 결과**\n",
        "\n",
        "```\n",
        "테스트 1\n",
        "입력값 〉\t[1, 2, 3, 2, 3]\n",
        "기댓값 〉\t[4, 3, 1, 1, 0]\n",
        "```"
      ],
      "metadata": {
        "id": "0K7lq05A_5sj"
      }
    },
    {
      "cell_type": "code",
      "source": [
        "print(\n",
        "    solution([1, 2, 3, 2, 3]),\n",
        "    sep=\"\\n\"\n",
        ")"
      ],
      "metadata": {
        "colab": {
          "base_uri": "https://localhost:8080/"
        },
        "id": "QwAm0_EZ_xU6",
        "outputId": "8e18e8cd-2d10-42ae-f707-0f56efa9c9a5"
      },
      "execution_count": 26,
      "outputs": [
        {
          "output_type": "stream",
          "name": "stdout",
          "text": [
            "[4, 3, 1, 1, 0]\n"
          ]
        }
      ]
    }
  ],
  "metadata": {
    "colab": {
      "collapsed_sections": [],
      "name": "algorithm/0_warming_up/n_testname.ipynb",
      "provenance": []
    },
    "kernelspec": {
      "display_name": "Python 3",
      "name": "python3"
    }
  },
  "nbformat": 4,
  "nbformat_minor": 0
}