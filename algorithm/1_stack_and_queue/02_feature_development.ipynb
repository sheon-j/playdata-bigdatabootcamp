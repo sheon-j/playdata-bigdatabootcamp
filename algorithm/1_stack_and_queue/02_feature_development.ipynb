{
  "cells": [
    {
      "cell_type": "markdown",
      "metadata": {
        "id": "view-in-github",
        "colab_type": "text"
      },
      "source": [
        "<a href=\"https://colab.research.google.com/github/sheon-j/playdata-bigdatabootcamp/blob/main/algorithm/1_stack_and_queue/02_feature_development.ipynb\" target=\"_parent\"><img src=\"https://colab.research.google.com/assets/colab-badge.svg\" alt=\"Open In Colab\"/></a>"
      ]
    },
    {
      "cell_type": "markdown",
      "source": [
        "![programmers](https://theme.zdassets.com/theme_assets/9483888/f7b9b68643e5a9a3bda6dc5a238152b1d467c9f0.png)\n",
        "# 기능개발\n",
        "\n",
        "by [sheon-j](https://github.com/sheon-j)\n",
        "\n",
        "### 문제 설명\n",
        "\n",
        "프로그래머스 팀에서는 기능 개선 작업을 수행 중입니다. 각 기능은 진도가 100%일 때 서비스에 반영할 수 있습니다.\n",
        "\n",
        "또, 각 기능의 개발속도는 모두 다르기 때문에 뒤에 있는 기능이 앞에 있는 기능보다 먼저 개발될 수 있고, 이때 뒤에 있는 기능은 앞에 있는 기능이 배포될 때 함께 배포됩니다.\n",
        "\n",
        "먼저 배포되어야 하는 순서대로 작업의 진도가 적힌 정수 배열 progresses와 각 작업의 개발 속도가 적힌 정수 배열 speeds가 주어질 때 각 배포마다 몇 개의 기능이 배포되는지를 return 하도록 solution 함수를 완성하세요.\n",
        "\n",
        "### 제한 사항\n",
        "\n",
        "- 작업의 개수(progresses, speeds배열의 길이)는 100개 이하입니다.\n",
        "- 작업 진도는 100 미만의 자연수입니다.\n",
        "- 작업 속도는 100 이하의 자연수입니다.\n",
        "- 배포는 하루에 한 번만 할 수 있으며, 하루의 끝에 이루어진다고 가정합니다. 예를 들어 진도율이 95%인 작업의 개발 속도가 하루에 4%라면 배포는 2일 뒤에 이루어집니다.\n",
        "\n",
        "### 입출력 예\n",
        "\n",
        "| progresses               | speeds             | return    |\n",
        "| ------------------------ | ------------------ | --------- |\n",
        "| [93, 30, 55]             | [1, 30, 5]         | [2, 1]    |\n",
        "| [95, 90, 99, 99, 80, 99] | [1, 1, 1, 1, 1, 1] | [1, 3, 2] |\n",
        "\n",
        "### 입출력 예 설명\n",
        "\n",
        "* **입출력 예 #1**\n",
        "  첫 번째 기능은 93% 완료되어 있고 하루에 1%씩 작업이 가능하므로 7일간 작업 후 배포가 가능합니다.\n",
        "  두 번째 기능은 30%가 완료되어 있고 하루에 30%씩 작업이 가능하므로 3일간 작업 후 배포가 가능합니다. 하지만 이전 첫 번째 기능이 아직 완성된 상태가 아니기 때문에 첫 번째 기능이 배포되는 7일째 배포됩니다.\n",
        "  세 번째 기능은 55%가 완료되어 있고 하루에 5%씩 작업이 가능하므로 9일간 작업 후 배포가 가능합니다. \n",
        "  따라서 7일째에 2개의 기능, 9일째에 1개의 기능이 배포됩니다.\n",
        "\n",
        "* **입출력 예 #2**\n",
        "  모든 기능이 하루에 1%씩 작업이 가능하므로, 작업이 끝나기까지 남은 일수는 각각 5일, 10일, 1일, 1일, 20일, 1일입니다. 어떤 기능이 먼저 완성되었더라도 앞에 있는 모든 기능이 완성되지 않으면 배포가 불가능합니다.\n",
        "  따라서 5일째에 1개의 기능, 10일째에 3개의 기능, 20일째에 2개의 기능이 배포됩니다."
      ],
      "metadata": {
        "id": "ufI2ak8I-HFY"
      }
    },
    {
      "cell_type": "code",
      "source": [
        "from collections import deque\n",
        "from math import ceil\n",
        "\n",
        "def solution(progresses, speeds):\n",
        "    answer = []\n",
        "    # 소요일 리스트화\n",
        "    spend_date = [ceil((100-p)/s) for p, s in zip(progresses, speeds)]\n",
        "    \n",
        "    while spend_date:\n",
        "        cnt = 1\n",
        "        pivot = spend_date.pop(0)           # 기준일 설정\n",
        "        for date in spend_date:\n",
        "            if pivot >= date:               # 기준일이 다음날보다 크다면\n",
        "                cnt += 1                    # 카운트 1(함께 배포)\n",
        "                spend_date = spend_date[1:] # 다다음날로 이동\n",
        "            else:\n",
        "                break\n",
        "        answer.append(cnt)                  # 카운트 추가\n",
        "    \n",
        "    return answer"
      ],
      "metadata": {
        "id": "DxJVzdbavx0O"
      },
      "execution_count": 87,
      "outputs": []
    },
    {
      "cell_type": "markdown",
      "source": [
        "**실행 결과**\n",
        "\n",
        "```\n",
        "테스트 1\n",
        "입력값 〉\t[93, 30, 55], [1, 30, 5]\n",
        "기댓값 〉\t[2, 1]\n",
        "\n",
        "입력값 〉\t[95, 90, 99, 99, 80, 99], [1, 1, 1, 1, 1, 1]\n",
        "기댓값 〉\t[1, 3, 2]\n",
        "```"
      ],
      "metadata": {
        "id": "0K7lq05A_5sj"
      }
    },
    {
      "cell_type": "code",
      "source": [
        "print(\n",
        "    solution([93, 30, 55], [1, 30, 5]),\n",
        "    solution([95, 90, 99, 99, 80, 99], [1, 1, 1, 1, 1, 1]),\n",
        "    sep=\"\\n\"\n",
        ")"
      ],
      "metadata": {
        "id": "jWzmBhgK4auB",
        "outputId": "4d0f7cfc-96d7-4773-d33c-b44cb9477716",
        "colab": {
          "base_uri": "https://localhost:8080/"
        }
      },
      "execution_count": 88,
      "outputs": [
        {
          "output_type": "stream",
          "name": "stdout",
          "text": [
            "[2, 1]\n",
            "[1, 3, 2]\n"
          ]
        }
      ]
    }
  ],
  "metadata": {
    "colab": {
      "collapsed_sections": [],
      "name": "algorithm/0_warming_up/n_testname.ipynb",
      "provenance": [],
      "include_colab_link": true
    },
    "kernelspec": {
      "display_name": "Python 3",
      "name": "python3"
    }
  },
  "nbformat": 4,
  "nbformat_minor": 0
}