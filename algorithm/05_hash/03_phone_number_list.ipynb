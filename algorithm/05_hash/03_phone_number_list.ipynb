{
  "cells": [
    {
      "cell_type": "markdown",
      "metadata": {
        "id": "view-in-github",
        "colab_type": "text"
      },
      "source": [
        "<a href=\"https://colab.research.google.com/github/sheon-j/playdata-bigdatabootcamp/blob/main/algorithm/05_hash/03_phone_number_list.ipynb\" target=\"_parent\"><img src=\"https://colab.research.google.com/assets/colab-badge.svg\" alt=\"Open In Colab\"/></a>"
      ]
    },
    {
      "cell_type": "markdown",
      "source": [
        "![programmers](https://theme.zdassets.com/theme_assets/9483888/f7b9b68643e5a9a3bda6dc5a238152b1d467c9f0.png)\n",
        "# 전화번호 목록\n",
        "\n",
        "by [sheon-j](https://github.com/sheon-j)\n",
        "\n",
        "### 문제 설명\n",
        "\n",
        "전화번호부에 적힌 전화번호 중, 한 번호가 다른 번호의 접두어인 경우가 있는지 확인하려 합니다.\n",
        "전화번호가 다음과 같을 경우, 구조대 전화번호는 영석이의 전화번호의 접두사입니다.\n",
        "\n",
        "- 구조대 : 119\n",
        "- 박준영 : 97 674 223\n",
        "- 지영석 : 11 9552 4421\n",
        "\n",
        "전화번호부에 적힌 전화번호를 담은 배열 phone_book 이 solution 함수의 매개변수로 주어질 때, 어떤 번호가 다른 번호의 접두어인 경우가 있으면 false를 그렇지 않으면 true를 return 하도록 solution 함수를 작성해주세요.\n",
        "\n",
        "### 제한 사항\n",
        "\n",
        "- phone_book의 길이는 1 이상 1,000,000 이하입니다.\n",
        "  - 각 전화번호의 길이는 1 이상 20 이하입니다.\n",
        "  - 같은 전화번호가 중복해서 들어있지 않습니다.\n",
        "\n",
        "### 입출력 예제\n",
        "\n",
        "| phone_book                        | return |\n",
        "| --------------------------------- | ------ |\n",
        "| [\"119\", \"97674223\", \"1195524421\"] | false  |\n",
        "| [\"123\",\"456\",\"789\"]               | true   |\n",
        "| [\"12\",\"123\",\"1235\",\"567\",\"88\"]    | false  |\n",
        "\n",
        "### 입출력 예 설명\n",
        "\n",
        "**입출력 예 #1**\n",
        "\n",
        "앞에서 설명한 예와 같습니다.\n",
        "\n",
        "**입출력 예 #2**\n",
        "\n",
        "한 번호가 다른 번호의 접두사인 경우가 없으므로, 답은 true입니다.\n",
        "\n",
        "**입출력 예 #3**\n",
        "\n",
        "첫 번째 전화번호, “12”가 두 번째 전화번호 “123”의 접두사입니다. 따라서 답은 false입니다."
      ],
      "metadata": {
        "id": "ufI2ak8I-HFY"
      }
    },
    {
      "cell_type": "code",
      "source": [
        "def solution(phone_book):\n",
        "    phone_book = sorted(phone_book)\n",
        "    for i, j in zip(phone_book, phone_book[1:]):\n",
        "         if j.startswith(i):\n",
        "            return False\n",
        "            break\n",
        "    return True"
      ],
      "metadata": {
        "id": "ZrXwY_4Rrwo3"
      },
      "execution_count": 13,
      "outputs": []
    },
    {
      "cell_type": "code",
      "source": [
        "print(\n",
        "    solution([\"119\", \"97674223\", \"1195524421\"]),\n",
        "    solution([\"123\",\"456\",\"789\"]),\n",
        "    solution([\"12\",\"123\",\"1235\",\"567\",\"88\"]),\n",
        "    sep = \"\\n\"\n",
        ")"
      ],
      "metadata": {
        "colab": {
          "base_uri": "https://localhost:8080/"
        },
        "id": "W6dD5F0jK8ji",
        "outputId": "b1b76464-9bfe-45ef-828b-ae8bc572472e"
      },
      "execution_count": 16,
      "outputs": [
        {
          "output_type": "stream",
          "name": "stdout",
          "text": [
            "False\n",
            "True\n",
            "False\n"
          ]
        }
      ]
    }
  ],
  "metadata": {
    "colab": {
      "collapsed_sections": [],
      "name": "algorithm/0_warming_up/n_testname.ipynb",
      "provenance": [],
      "include_colab_link": true
    },
    "kernelspec": {
      "display_name": "Python 3",
      "name": "python3"
    }
  },
  "nbformat": 4,
  "nbformat_minor": 0
}