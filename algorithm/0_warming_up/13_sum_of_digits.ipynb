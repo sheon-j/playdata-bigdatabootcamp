{
  "cells": [
    {
      "cell_type": "markdown",
      "source": [
        "![programmers](https://theme.zdassets.com/theme_assets/9483888/f7b9b68643e5a9a3bda6dc5a238152b1d467c9f0.png)\n",
        "# 자릿수 더하기\n",
        "by [sheon-j](https://github.com/sheon-j)\n",
        "### 문제 설명\n",
        "\n",
        "자연수 N이 주어지면, N의 각 자릿수의 합을 구해서 return 하는 solution 함수를 만들어 주세요.\n",
        "\n",
        "예를들어 N = 123이면 1 + 2 + 3 = 6을 return 하면 됩니다.\n",
        "\n",
        "### 제한사항\n",
        "\n",
        "- N의 범위 : 100,000,000 이하의 자연수\n",
        "\n",
        "### 입출력 예\n",
        "\n",
        "| N    | answer |\n",
        "| ---- | ------ |\n",
        "| 123  | 6      |\n",
        "| 987  | 24     |\n",
        "\n",
        "### 입출력의 예 설명\n",
        "\n",
        "입출력 예 #1\n",
        "- 문제의 예시와 같습니다.\n",
        "\n",
        "입출력 예 #2\n",
        "- 9 + 8 + 7 = 24이므로 24를 return 하면 됩니다.\n"
      ],
      "metadata": {
        "id": "ufI2ak8I-HFY"
      }
    },
    {
      "cell_type": "code",
      "source": [
        "def solution(n):\n",
        "    return sum([int(i) for i in str(n)]) # list comprehension"
      ],
      "metadata": {
        "id": "9lbO2QWx-za5"
      },
      "execution_count": 6,
      "outputs": []
    },
    {
      "cell_type": "markdown",
      "source": [
        "**실행 결과**\n",
        "\n",
        "```\n",
        "테스트 1\n",
        "입력값 〉\t123\n",
        "기댓값 〉\t6\n",
        "\n",
        "테스트 2\n",
        "입력값 〉\t987\n",
        "기댓값 〉\t24\n",
        "```"
      ],
      "metadata": {
        "id": "0K7lq05A_5sj"
      }
    },
    {
      "cell_type": "code",
      "source": [
        "print(solution(123))\n",
        "print(solution(987))"
      ],
      "metadata": {
        "colab": {
          "base_uri": "https://localhost:8080/"
        },
        "id": "QwAm0_EZ_xU6",
        "outputId": "f74d4ccc-d48e-4cd0-d9a3-aaf4c8b7cb1f"
      },
      "execution_count": 7,
      "outputs": [
        {
          "output_type": "stream",
          "name": "stdout",
          "text": [
            "6\n",
            "24\n"
          ]
        }
      ]
    }
  ],
  "metadata": {
    "colab": {
      "collapsed_sections": [],
      "name": "algorithm/0_warming_up/n_testname.ipynb",
      "provenance": []
    },
    "kernelspec": {
      "display_name": "Python 3",
      "name": "python3"
    }
  },
  "nbformat": 4,
  "nbformat_minor": 0
}