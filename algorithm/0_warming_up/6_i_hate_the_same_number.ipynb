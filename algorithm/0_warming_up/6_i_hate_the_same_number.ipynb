{
  "cells": [
    {
      "cell_type": "markdown",
      "source": [
        "![programmers](https://theme.zdassets.com/theme_assets/9483888/f7b9b68643e5a9a3bda6dc5a238152b1d467c9f0.png)\n",
        "# 같은 숫자는 싫어\n",
        "by [sheon-j](https://github.com/sheon-j)\n",
        "### 문제 설명\n",
        "\n",
        "배열 arr가 주어집니다. 배열 arr의 각 원소는 숫자 0부터 9까지로 이루어져 있습니다.\n",
        "\n",
        "이때, 배열 arr에서 연속적으로 나타나는 숫자는 하나만 남기고 전부 제거하려고 합니다.\n",
        "\n",
        "단, 제거된 후 남은 수들을 반환할 때는 배열 arr의 원소들의 순서를 유지해야 합니다. 예를 들면,\n",
        "\n",
        "- arr = [1, 1, 3, 3, 0, 1, 1] 이면 [1, 3, 0, 1] 을 return 합니다.\n",
        "- arr = [4, 4, 4, 3, 3] 이면 [4, 3] 을 return 합니다.\n",
        "\n",
        "배열 arr에서 연속적으로 나타나는 숫자는 제거하고 남은 수들을 return 하는 solution 함수를 완성해 주세요.\n",
        "\n",
        "### 제한사항\n",
        "\n",
        "- 배열 arr의 크기 : 1,000,000 이하의 자연수\n",
        "- 배열 arr의 원소의 크기 : 0보다 크거나 같고 9보다 작거나 같은 정수\n",
        "\n",
        "------\n",
        "\n",
        "### 입출력 예\n",
        "\n",
        "| arr             | answer    |\n",
        "| --------------- | --------- |\n",
        "| [1,1,3,3,0,1,1] | [1,3,0,1] |\n",
        "| [4,4,4,3,3]     | [4,3]     |"
      ],
      "metadata": {
        "id": "ufI2ak8I-HFY"
      }
    },
    {
      "cell_type": "code",
      "source": [
        "def solution(arr):\n",
        "    answer = []\n",
        "    for i in arr:\n",
        "        # 1. answer가 비어있다면 i 추가\n",
        "        if not answer:\n",
        "            answer.append(i)\n",
        "        # 2. answer의 끝값과 i가 같지 않다면 i 추가\n",
        "        elif answer[-1] != i:\n",
        "            answer.append(i)\n",
        "    return answer"
      ],
      "metadata": {
        "id": "9lbO2QWx-za5"
      },
      "execution_count": 31,
      "outputs": []
    },
    {
      "cell_type": "markdown",
      "source": [
        "**실행 결과**\n",
        "\n",
        "```\n",
        "테스트 1\n",
        "입력값 〉\t[1, 1, 3, 3, 0, 1, 1]\n",
        "기댓값 〉\t[1, 3, 0, 1]\n",
        "\n",
        "테스트 2\n",
        "입력값 〉\t[4, 4, 4, 3, 3]\n",
        "기댓값 〉\t[4, 3]\n",
        "```"
      ],
      "metadata": {
        "id": "0K7lq05A_5sj"
      }
    },
    {
      "cell_type": "code",
      "source": [
        "print(solution([1, 1, 3, 3, 0, 1, 1]))\n",
        "print(solution([4, 4, 4, 3, 3]))"
      ],
      "metadata": {
        "colab": {
          "base_uri": "https://localhost:8080/"
        },
        "id": "QwAm0_EZ_xU6",
        "outputId": "461d3629-69f0-43c2-f7d3-69bacbf8c753"
      },
      "execution_count": 30,
      "outputs": [
        {
          "output_type": "stream",
          "name": "stdout",
          "text": [
            "[1, 3, 0, 1]\n",
            "[4, 3]\n"
          ]
        }
      ]
    }
  ],
  "metadata": {
    "colab": {
      "collapsed_sections": [],
      "name": "algorithm/0_warming_up/n_testname.ipynb",
      "provenance": []
    },
    "kernelspec": {
      "display_name": "Python 3",
      "name": "python3"
    }
  },
  "nbformat": 4,
  "nbformat_minor": 0
}