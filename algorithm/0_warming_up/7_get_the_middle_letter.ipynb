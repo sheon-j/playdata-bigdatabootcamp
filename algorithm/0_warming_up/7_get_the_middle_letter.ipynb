{
  "cells": [
    {
      "cell_type": "markdown",
      "source": [
        "![programmers](https://theme.zdassets.com/theme_assets/9483888/f7b9b68643e5a9a3bda6dc5a238152b1d467c9f0.png)\n",
        "# 가운데 글자 가져오기\n",
        "by [sheon-j](https://github.com/sheon-j)\n",
        "### 문제 설명\n",
        "\n",
        "단어 s의 가운데 글자를 반환하는 함수, solution을 만들어 보세요. \n",
        "\n",
        "단어의 길이가 짝수라면 가운데 두글자를 반환하면 됩니다.\n",
        "\n",
        "### 제한사항\n",
        "\n",
        "- s는 길이가 1 이상, 100이하인 스트링입니다.\n",
        "\n",
        "### 입출력 예\n",
        "\n",
        "| s       | return |\n",
        "| ------- | ------ |\n",
        "| \"abcde\" | \"c\"    |\n",
        "| \"qwer\"  | \"we\"   |"
      ],
      "metadata": {
        "id": "ufI2ak8I-HFY"
      }
    },
    {
      "cell_type": "code",
      "source": [
        "def solution(s):\n",
        "              # 1. s의 길이가 홀수라면 중간 값\n",
        "    answer = (s[len(s)//2] if len(s)%2!=0 \n",
        "              # 2. s의 길이가 짝수라면 중간-1 값과 중간+1 값\n",
        "              else s[len(s)//2-1:len(s)//2+1])\n",
        "    return answer"
      ],
      "metadata": {
        "id": "9lbO2QWx-za5"
      },
      "execution_count": 34,
      "outputs": []
    },
    {
      "cell_type": "markdown",
      "source": [
        "**실행 결과**\n",
        "\n",
        "```\n",
        "테스트 1\n",
        "입력값 〉\t\"abcde\"\n",
        "기댓값 〉\t\"c\"\n",
        "\n",
        "테스트 2\n",
        "입력값 〉\t\"qwer\"\n",
        "기댓값 〉\t\"we\"\n",
        "```"
      ],
      "metadata": {
        "id": "0K7lq05A_5sj"
      }
    },
    {
      "cell_type": "code",
      "source": [
        "print(solution(\"abcde\"))\n",
        "print(solution(\"qwer\"))"
      ],
      "metadata": {
        "colab": {
          "base_uri": "https://localhost:8080/"
        },
        "id": "QwAm0_EZ_xU6",
        "outputId": "fb8bc02f-13c9-47a2-c79c-c94acee95975"
      },
      "execution_count": 36,
      "outputs": [
        {
          "output_type": "stream",
          "name": "stdout",
          "text": [
            "c\n",
            "we\n"
          ]
        }
      ]
    }
  ],
  "metadata": {
    "colab": {
      "collapsed_sections": [],
      "name": "algorithm/0_warming_up/n_testname.ipynb",
      "provenance": []
    },
    "kernelspec": {
      "display_name": "Python 3",
      "name": "python3"
    }
  },
  "nbformat": 4,
  "nbformat_minor": 0
}