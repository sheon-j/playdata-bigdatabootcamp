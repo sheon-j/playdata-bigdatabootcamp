{
  "cells": [
    {
      "cell_type": "markdown",
      "source": [
        "![programmers](https://theme.zdassets.com/theme_assets/9483888/f7b9b68643e5a9a3bda6dc5a238152b1d467c9f0.png)\n",
        "# 약수의 합\n",
        "by [sheon-j](https://github.com/sheon-j)\n",
        "### 문제 설명\n",
        "\n",
        "정수 n을 입력받아 n의 약수를 모두 더한 값을 리턴하는 함수, solution을 완성해주세요.\n",
        "\n",
        "### 제한 사항\n",
        "\n",
        "- `n`은 0 이상 3000이하인 정수입니다.\n",
        "\n",
        "### 입출력 예\n",
        "\n",
        "| n    | return |\n",
        "| ---- | ------ |\n",
        "| 12   | 28     |\n",
        "| 5    | 6      |\n",
        "\n",
        "### 입출력 예 설명\n",
        "\n",
        "**입출력 예 #1**\n",
        "\n",
        "12의 약수는 1, 2, 3, 4, 6, 12입니다. 이를 모두 더하면 28입니다.\n",
        "\n",
        "**입출력 예 #2**\n",
        "\n",
        "5의 약수는 1, 5입니다. 이를 모두 더하면 6입니다."
      ],
      "metadata": {
        "id": "ufI2ak8I-HFY"
      }
    },
    {
      "cell_type": "code",
      "source": [
        "def solution(n):\n",
        "    # 1. 1부터 n+1까지의 수에서 약수의 값\n",
        "    pattern = [i for i in range(1, n+1) if n%i==0]\n",
        "    answer = sum(pattern)\n",
        "    return answer"
      ],
      "metadata": {
        "id": "9lbO2QWx-za5"
      },
      "execution_count": 18,
      "outputs": []
    },
    {
      "cell_type": "markdown",
      "source": [
        "**실행 결과**\n",
        "\n",
        "```\n",
        "테스트 1\n",
        "입력값 〉12\n",
        "기댓값 〉28\n",
        "\n",
        "테스트 2\n",
        "입력값 〉5\n",
        "기댓값 〉6\n",
        "```"
      ],
      "metadata": {
        "id": "0K7lq05A_5sj"
      }
    },
    {
      "cell_type": "code",
      "source": [
        "print(solution(12))\n",
        "print(solution(5))"
      ],
      "metadata": {
        "colab": {
          "base_uri": "https://localhost:8080/"
        },
        "id": "QwAm0_EZ_xU6",
        "outputId": "c3d8b1c1-5989-43d6-a33d-2c67e2a45d1d"
      },
      "execution_count": 19,
      "outputs": [
        {
          "output_type": "stream",
          "name": "stdout",
          "text": [
            "28\n",
            "6\n"
          ]
        }
      ]
    }
  ],
  "metadata": {
    "colab": {
      "collapsed_sections": [],
      "name": "프로그래머스",
      "provenance": []
    },
    "kernelspec": {
      "display_name": "Python 3",
      "name": "python3"
    }
  },
  "nbformat": 4,
  "nbformat_minor": 0
}