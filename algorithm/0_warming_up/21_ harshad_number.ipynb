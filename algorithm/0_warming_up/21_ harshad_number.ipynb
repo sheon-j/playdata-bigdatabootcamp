{
  "cells": [
    {
      "cell_type": "markdown",
      "source": [
        "![programmers](https://theme.zdassets.com/theme_assets/9483888/f7b9b68643e5a9a3bda6dc5a238152b1d467c9f0.png)\n",
        "# 하샤드 수\n",
        "\n",
        "by [sheon-j](https://github.com/sheon-j)\n",
        "### 문제 설명\n",
        "\n",
        "양의 정수 x가 하샤드 수이려면 x의 자릿수의 합으로 x가 나누어져야 합니다. 예를 들어 18의 자릿수 합은 1+8=9이고, 18은 9로 나누어 떨어지므로 18은 하샤드 수입니다. 자연수 x를 입력받아 x가 하샤드 수인지 아닌지 검사하는 함수, solution을 완성해주세요.\n",
        "\n",
        "### 제한 조건\n",
        "\n",
        "- `x`는 1 이상, 10000 이하인 정수입니다.\n",
        "\n",
        "### 입출력 예\n",
        "\n",
        "| arr  | return |\n",
        "| ---- | :----: |\n",
        "| 10   |  true  |\n",
        "| 12   |  true  |\n",
        "| 11   | false  |\n",
        "| 13   | false  |\n",
        "\n",
        "### 입출력 예 설명\n",
        "\n",
        "* **입출력 예 #1**\n",
        "  10의 모든 자릿수의 합은 1입니다. 10은 1로 나누어 떨어지므로 10은 하샤드 수입니다.\n",
        "* **입출력 예 #2**\n",
        "  12의 모든 자릿수의 합은 3입니다. 12는 3으로 나누어 떨어지므로 12는 하샤드 수입니다.\n",
        "* **입출력 예 #3**\n",
        "  11의 모든 자릿수의 합은 2입니다. 11은 2로 나누어 떨어지지 않으므로 11는 하샤드 수가 아닙니다.\n",
        "* **입출력 예 #4**\n",
        "  13의 모든 자릿수의 합은 4입니다. 13은 4로 나누어 떨어지지 않으므로 13은 하샤드 수가 아닙니다."
      ],
      "metadata": {
        "id": "ufI2ak8I-HFY"
      }
    },
    {
      "cell_type": "code",
      "source": [
        "def solution(x):\n",
        "    # 자릿수를 모두 더한 값으로 나누어 떨어진다면 0(false)이 나옴\n",
        "    # 논리 부정을 통해 true 반환 \n",
        "    return not(x % sum([int(i) for i in str(x)]))"
      ],
      "metadata": {
        "id": "9lbO2QWx-za5"
      },
      "execution_count": 50,
      "outputs": []
    },
    {
      "cell_type": "markdown",
      "source": [
        "**실행 결과**\n",
        "\n",
        "```\n",
        "테스트 1\n",
        "입력값 〉 10\n",
        "기댓값 〉 true\n",
        "\n",
        "테스트 2\n",
        "입력값 〉 12\n",
        "기댓값 〉 true\n",
        "\n",
        "테스트 3\n",
        "입력값 〉 11\n",
        "기댓값 〉 false\n",
        "\n",
        "테스트 4\n",
        "입력값 〉 13\n",
        "기댓값 〉 false\n",
        "```"
      ],
      "metadata": {
        "id": "0K7lq05A_5sj"
      }
    },
    {
      "cell_type": "code",
      "source": [
        "(solution(10), solution(12), solution(11), solution(13))"
      ],
      "metadata": {
        "colab": {
          "base_uri": "https://localhost:8080/"
        },
        "id": "QwAm0_EZ_xU6",
        "outputId": "8b1c5479-3580-4722-8cf1-028b079c62f2"
      },
      "execution_count": 52,
      "outputs": [
        {
          "output_type": "execute_result",
          "data": {
            "text/plain": [
              "(True, True, False, False)"
            ]
          },
          "metadata": {},
          "execution_count": 52
        }
      ]
    }
  ],
  "metadata": {
    "colab": {
      "collapsed_sections": [],
      "name": "algorithm/0_warming_up/n_testname.ipynb",
      "provenance": []
    },
    "kernelspec": {
      "display_name": "Python 3",
      "name": "python3"
    }
  },
  "nbformat": 4,
  "nbformat_minor": 0
}