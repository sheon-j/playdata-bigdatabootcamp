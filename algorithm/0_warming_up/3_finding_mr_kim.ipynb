{
  "cells": [
    {
      "cell_type": "markdown",
      "source": [
        "![programmers](https://theme.zdassets.com/theme_assets/9483888/f7b9b68643e5a9a3bda6dc5a238152b1d467c9f0.png)\n",
        "# 서울에서 김서방 찾기\n",
        "by [sheon-j](https://github.com/sheon-j)\n",
        "### 문제 설명\n",
        "\n",
        "String형 배열 seoul의 element중 \"Kim\"의 위치 x를 찾아, \"김서방은 x에 있다\"는 String을 반환하는 함수, solution을 완성하세요. \n",
        "\n",
        "seoul에 \"Kim\"은 오직 한 번만 나타나며 잘못된 값이 입력되는 경우는 없습니다.\n",
        "\n",
        "### 제한 사항\n",
        "\n",
        "- seoul은 길이 1 이상, 1000 이하인 배열입니다.\n",
        "- seoul의 원소는 길이 1 이상, 20 이하인 문자열입니다.\n",
        "- \"Kim\"은 반드시 seoul 안에 포함되어 있습니다.\n",
        "\n",
        "### 입출력 예\n",
        "\n",
        "| seoul           | return              |\n",
        "| --------------- | ------------------- |\n",
        "| [\"Jane\", \"Kim\"] | \"김서방은 1에 있다\" |"
      ],
      "metadata": {
        "id": "ufI2ak8I-HFY"
      }
    },
    {
      "cell_type": "code",
      "source": [
        "def solution(seoul):\n",
        "    # 1. \"Kim\"의 index 찾기\n",
        "    x = seoul.index(\"Kim\")\n",
        "    # 2. 출력\n",
        "    answer = f\"김서방은 {x}에 있다\"\n",
        "    return answer"
      ],
      "metadata": {
        "id": "9lbO2QWx-za5"
      },
      "execution_count": 11,
      "outputs": []
    },
    {
      "cell_type": "markdown",
      "source": [
        "```\n",
        "테스트 1\n",
        "입력값 〉\t[\"Jane\", \"Kim\"]\n",
        "기댓값 〉\t\"김서방은 1에 있다\"\n",
        "```"
      ],
      "metadata": {
        "id": "0K7lq05A_5sj"
      }
    },
    {
      "cell_type": "code",
      "source": [
        "print(solution([\"Jane\", \"Kim\"]))"
      ],
      "metadata": {
        "colab": {
          "base_uri": "https://localhost:8080/"
        },
        "id": "QwAm0_EZ_xU6",
        "outputId": "8ab22b35-5908-4ca2-88f8-ce96c8a5f0a2"
      },
      "execution_count": 12,
      "outputs": [
        {
          "output_type": "stream",
          "name": "stdout",
          "text": [
            "김서방은 1에 있다\n"
          ]
        }
      ]
    }
  ],
  "metadata": {
    "colab": {
      "collapsed_sections": [],
      "name": "프로그래머스",
      "provenance": []
    },
    "kernelspec": {
      "display_name": "Python 3",
      "name": "python3"
    }
  },
  "nbformat": 4,
  "nbformat_minor": 0
}