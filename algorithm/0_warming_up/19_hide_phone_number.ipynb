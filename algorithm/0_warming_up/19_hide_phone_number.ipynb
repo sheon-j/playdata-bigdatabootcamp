{
  "cells": [
    {
      "cell_type": "markdown",
      "source": [
        "![programmers](https://theme.zdassets.com/theme_assets/9483888/f7b9b68643e5a9a3bda6dc5a238152b1d467c9f0.png)\n",
        "# 핸드폰 번호 가리기\n",
        "by [sheon-j](https://github.com/sheon-j)\n",
        "### 문제 설명\n",
        "\n",
        "프로그래머스 모바일은 개인정보 보호를 위해 고지서를 보낼 때 고객들의 전화번호의 일부를 가립니다.\n",
        "\n",
        "전화번호가 문자열 phone_number로 주어졌을 때, 전화번호의 뒷 4자리를 제외한 나머지 숫자를 전부 *으로 가린 문자열을 리턴하는 함수, solution을 완성해주세요.\n",
        "\n",
        "### 제한사항\n",
        "\n",
        "- s는 길이 4 이상, 20이하인 문자열입니다.\n",
        "\n",
        "### 입출력 예\n",
        "\n",
        "| phone_number  | return        |\n",
        "| ------------- | ------------- |\n",
        "| \"01033334444\" | \"\\*\\*\\*\\*\\*\\*\\*4444\" |\n",
        "| \"027778888\"   | \"\\*\\*\\*\\*\\*8888\"   |"
      ],
      "metadata": {
        "id": "ufI2ak8I-HFY"
      }
    },
    {
      "cell_type": "code",
      "source": [
        "def solution(pn):\n",
        "    # 뒷 4자리를 제외한 자리를 *로 치환 \n",
        "    return '*'*(len(pn)-4)+pn[-4:]"
      ],
      "metadata": {
        "id": "9lbO2QWx-za5"
      },
      "execution_count": 28,
      "outputs": []
    },
    {
      "cell_type": "markdown",
      "source": [
        "**실행 결과**\n",
        "\n",
        "```\n",
        "테스트 1\n",
        "입력값 〉 \"01033334444\"\n",
        "기댓값 〉 \"*******4444\"\n",
        "\n",
        "테스트 2\n",
        "입력값 〉 \"027778888\"\n",
        "기댓값 〉 \"*****8888\"\n",
        "```"
      ],
      "metadata": {
        "id": "0K7lq05A_5sj"
      }
    },
    {
      "cell_type": "code",
      "source": [
        "print(solution(\"01033334444\"))\n",
        "print(solution(\"027778888\"))"
      ],
      "metadata": {
        "colab": {
          "base_uri": "https://localhost:8080/"
        },
        "id": "QwAm0_EZ_xU6",
        "outputId": "ffbc7916-2bbd-465c-d8db-b80939dd4fdb"
      },
      "execution_count": 29,
      "outputs": [
        {
          "output_type": "stream",
          "name": "stdout",
          "text": [
            "*******4444\n",
            "*****8888\n"
          ]
        }
      ]
    }
  ],
  "metadata": {
    "colab": {
      "collapsed_sections": [],
      "name": "algorithm/0_warming_up/n_testname.ipynb",
      "provenance": []
    },
    "kernelspec": {
      "display_name": "Python 3",
      "name": "python3"
    }
  },
  "nbformat": 4,
  "nbformat_minor": 0
}