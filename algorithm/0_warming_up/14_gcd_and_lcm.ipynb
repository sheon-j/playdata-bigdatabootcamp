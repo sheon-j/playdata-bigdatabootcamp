{
  "cells": [
    {
      "cell_type": "markdown",
      "source": [
        "![programmers](https://theme.zdassets.com/theme_assets/9483888/f7b9b68643e5a9a3bda6dc5a238152b1d467c9f0.png)\n",
        "# 최대공약수와 최소공배수\n",
        "by [sheon-j](https://github.com/sheon-j)\n",
        "### 문제 설명\n",
        "\n",
        "두 수를 입력받아 두 수의 최대공약수와 최소공배수를 반환하는 함수, solution을 완성해 보세요. \n",
        "\n",
        "배열의 맨 앞에 최대공약수, 그다음 최소공배수를 넣어 반환하면 됩니다. \n",
        "\n",
        "예를 들어 두 수 3, 12의 최대공약수는 3, 최소공배수는 12이므로 solution(3, 12)는 [3, 12]를 반환해야 합니다.\n",
        "\n",
        "### 제한사항\n",
        "\n",
        "- 두 수는 1이상 1000000이하의 자연수입니다.\n",
        "\n",
        "### 입출력 예\n",
        "\n",
        "| n    | m    | return  |\n",
        "| ---- | ---- | ------- |\n",
        "| 3    | 12   | [3, 12] |\n",
        "| 2    | 5    | [1, 10] |\n",
        "\n",
        "### 입출력의 예 설명\n",
        "\n",
        "입출력 예 #1\n",
        "- 위의 설명과 같습니다.\n",
        "\n",
        "입출력 예 #2\n",
        "- 자연수 2와 5의 최대공약수는 1, 최소공배수는 10이므로 [1, 10]을 리턴해야 합니다.\n"
      ],
      "metadata": {
        "id": "ufI2ak8I-HFY"
      }
    },
    {
      "cell_type": "code",
      "source": [
        "def solution(n, m):\n",
        "    answer = []\n",
        "    for i in range(max(n, m), 0, -1): # 큰 값의 range 역순\n",
        "        if n%i==0 and m%i==0:         # 최대공약수: 두 값이 같이 나누어 떨어지는 가장 큰 값\n",
        "            answer.append(i)\n",
        "            break\n",
        "    \n",
        "    for j in range(1, n*m+1):         # 두 값의 곱 range\n",
        "        if j%n==0 and j%m==0:         # 최소공배수: 두 값의 가장 작은 공통 배수\n",
        "            answer.append(j)\n",
        "            break\n",
        "    return answer"
      ],
      "metadata": {
        "id": "9lbO2QWx-za5"
      },
      "execution_count": 9,
      "outputs": []
    },
    {
      "cell_type": "markdown",
      "source": [
        "**실행 결과**\n",
        "\n",
        "```\n",
        "테스트 1\n",
        "입력값 〉\t3, 12\n",
        "기댓값 〉\t[3, 12]\n",
        "\n",
        "테스트 2\n",
        "입력값 〉\t2, 5\n",
        "기댓값 〉\t[1, 10]\n",
        "```"
      ],
      "metadata": {
        "id": "0K7lq05A_5sj"
      }
    },
    {
      "cell_type": "code",
      "source": [
        "print(solution(3, 12))\n",
        "print(solution(2, 5))"
      ],
      "metadata": {
        "colab": {
          "base_uri": "https://localhost:8080/"
        },
        "id": "QwAm0_EZ_xU6",
        "outputId": "e2eec919-5c4a-40bd-f409-584a17eda2bf"
      },
      "execution_count": 10,
      "outputs": [
        {
          "output_type": "stream",
          "name": "stdout",
          "text": [
            "[3, 12]\n",
            "[1, 10]\n"
          ]
        }
      ]
    }
  ],
  "metadata": {
    "colab": {
      "collapsed_sections": [],
      "name": "algorithm/0_warming_up/n_testname.ipynb",
      "provenance": []
    },
    "kernelspec": {
      "display_name": "Python 3",
      "name": "python3"
    }
  },
  "nbformat": 4,
  "nbformat_minor": 0
}