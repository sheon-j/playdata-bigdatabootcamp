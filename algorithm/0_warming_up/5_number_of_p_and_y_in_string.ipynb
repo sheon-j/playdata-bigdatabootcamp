{
  "cells": [
    {
      "cell_type": "markdown",
      "source": [
        "![programmers](https://theme.zdassets.com/theme_assets/9483888/f7b9b68643e5a9a3bda6dc5a238152b1d467c9f0.png)\n",
        "# 문자열 내 p와 y의 개수\n",
        "by [sheon-j](https://github.com/sheon-j)\n",
        "### 문제 설명\n",
        "\n",
        "대문자와 소문자가 섞여있는 문자열 s가 주어집니다. s에 'p'의 개수와 'y'의 개수를 비교해 같으면 True, 다르면 False를 return 하는 solution를 완성하세요. \n",
        "\n",
        "'p', 'y' 모두 하나도 없는 경우는 항상 True를 리턴합니다. 단, 개수를 비교할 때 대문자와 소문자는 구별하지 않습니다.\n",
        "\n",
        "예를 들어 s가 \"pPoooyY\"면 true를 return하고 \"Pyy\"라면 false를 return합니다.\n",
        "\n",
        "### 제한사항\n",
        "\n",
        "- 문자열 s의 길이 : 50 이하의 자연수\n",
        "- 문자열 s는 알파벳으로만 이루어져 있습니다.\n",
        "\n",
        "\n",
        "\n",
        "### 입출력 예\n",
        "\n",
        "| s         | answer |\n",
        "| --------- | ------ |\n",
        "| \"pPoooyY\" | true   |\n",
        "| \"Pyy\"     | false  |\n",
        "\n",
        "### 입출력 예 설명\n",
        "\n",
        "**입출력 예 #1**\n",
        "\n",
        "'p'의 개수 2개, 'y'의 개수 2개로 같으므로 true를 return 합니다.\n",
        "\n",
        "**입출력 예 #2**\n",
        "\n",
        "'p'의 개수 1개, 'y'의 개수 2개로 다르므로 false를 return 합니다."
      ],
      "metadata": {
        "id": "ufI2ak8I-HFY"
      }
    },
    {
      "cell_type": "code",
      "source": [
        "from collections import Counter\n",
        "\n",
        "def solution(s):\n",
        "    # 1. 문자 집계 (카운터 딕셔너리)\n",
        "    char_count = Counter(s.lower())\n",
        "    # 2. 조건 부울\n",
        "    answer = True if char_count[\"p\"] == char_count[\"y\"] else False\n",
        "    return answer"
      ],
      "metadata": {
        "id": "9lbO2QWx-za5"
      },
      "execution_count": 21,
      "outputs": []
    },
    {
      "cell_type": "markdown",
      "source": [
        "**실행 결과**\n",
        "\n",
        "```\n",
        "테스트 1\n",
        "입력값 〉\t\"pPoooyY\"\n",
        "기댓값 〉\ttrue\n",
        "\n",
        "테스트 2\n",
        "입력값 〉\t\"Pyy\"\n",
        "기댓값 〉\tfalse\n",
        "```"
      ],
      "metadata": {
        "id": "0K7lq05A_5sj"
      }
    },
    {
      "cell_type": "code",
      "source": [
        "print(solution(\"pPoooyY\"))\n",
        "print(solution(\"Pyy\"))"
      ],
      "metadata": {
        "colab": {
          "base_uri": "https://localhost:8080/"
        },
        "id": "QwAm0_EZ_xU6",
        "outputId": "02daba43-75a2-4a5c-b1f5-2f312aee4f10"
      },
      "execution_count": 22,
      "outputs": [
        {
          "output_type": "stream",
          "name": "stdout",
          "text": [
            "True\n",
            "False\n"
          ]
        }
      ]
    }
  ],
  "metadata": {
    "colab": {
      "collapsed_sections": [],
      "name": "algorithm/0_warming_up/n_testname.ipynb",
      "provenance": []
    },
    "kernelspec": {
      "display_name": "Python 3",
      "name": "python3"
    }
  },
  "nbformat": 4,
  "nbformat_minor": 0
}