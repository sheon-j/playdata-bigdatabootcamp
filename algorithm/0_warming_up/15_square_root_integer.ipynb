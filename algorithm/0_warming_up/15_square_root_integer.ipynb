{
  "cells": [
    {
      "cell_type": "markdown",
      "source": [
        "![programmers](https://theme.zdassets.com/theme_assets/9483888/f7b9b68643e5a9a3bda6dc5a238152b1d467c9f0.png)\n",
        "# 정수 제곱근 판별\n",
        "by [sheon-j](https://github.com/sheon-j)\n",
        "### 문제 설명\n",
        "\n",
        "임의의 양의 정수 n에 대해, n이 어떤 양의 정수 x의 제곱인지 아닌지 판단하려 합니다.\n",
        "\n",
        "n이 양의 정수 x의 제곱이라면 x+1의 제곱을 리턴하고, n이 양의 정수 x의 제곱이 아니라면 -1을 리턴하는 함수를 완성하세요.\n",
        "\n",
        "### 제한사항\n",
        "\n",
        "- n은 1이상, 50000000000000 이하인 양의 정수입니다.\n",
        "\n",
        "### 입출력 예\n",
        "\n",
        "| n    | return |\n",
        "| ---- | :----: |\n",
        "| 121  |  144   |\n",
        "| 3    |   -1   |\n",
        "\n",
        "### 입출력의 예 설명\n",
        "\n",
        "입출력 예 #1\n",
        "- 121은 양의 정수 11의 제곱이므로, (11+1)를 제곱한 144를 리턴합니다.\n",
        "\n",
        "입출력 예 #2\n",
        "- 3은 양의 정수의 제곱이 아니므로, -1을 리턴합니다.\n"
      ],
      "metadata": {
        "id": "ufI2ak8I-HFY"
      }
    },
    {
      "cell_type": "code",
      "source": [
        "def solution(n):\n",
        "    answer = -1 if n**0.5%1!=0 else int((n**0.5+1)**2) # 조건식\n",
        "    return answer"
      ],
      "metadata": {
        "id": "9lbO2QWx-za5"
      },
      "execution_count": 12,
      "outputs": []
    },
    {
      "cell_type": "markdown",
      "source": [
        "**실행 결과**\n",
        "\n",
        "```\n",
        "테스트 1\n",
        "입력값 〉\t121\n",
        "기댓값 〉\t144\n",
        "\n",
        "테스트 2\n",
        "입력값 〉\t3\n",
        "기댓값 〉\t-1\n",
        "```"
      ],
      "metadata": {
        "id": "0K7lq05A_5sj"
      }
    },
    {
      "cell_type": "code",
      "source": [
        "print(solution(121))\n",
        "print(solution(3))"
      ],
      "metadata": {
        "colab": {
          "base_uri": "https://localhost:8080/"
        },
        "id": "QwAm0_EZ_xU6",
        "outputId": "9631f388-a23a-4d7b-d311-6b95b7e0cd00"
      },
      "execution_count": 13,
      "outputs": [
        {
          "output_type": "stream",
          "name": "stdout",
          "text": [
            "144\n",
            "-1\n"
          ]
        }
      ]
    }
  ],
  "metadata": {
    "colab": {
      "collapsed_sections": [],
      "name": "algorithm/0_warming_up/n_testname.ipynb",
      "provenance": []
    },
    "kernelspec": {
      "display_name": "Python 3",
      "name": "python3"
    }
  },
  "nbformat": 4,
  "nbformat_minor": 0
}