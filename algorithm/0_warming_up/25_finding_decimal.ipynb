{
  "cells": [
    {
      "cell_type": "markdown",
      "source": [
        "![programmers](https://theme.zdassets.com/theme_assets/9483888/f7b9b68643e5a9a3bda6dc5a238152b1d467c9f0.png)\n",
        "# 소수 찾기\n",
        "\n",
        "by [sheon-j](https://github.com/sheon-j)\n",
        "\n",
        "### 문제 설명\n",
        "\n",
        "1부터 입력받은 숫자 n 사이에 있는 소수의 개수를 반환하는 함수, solution을 만들어 보세요. \n",
        "\n",
        "소수는 1과 자기 자신으로만 나누어지는 수를 의미합니다.\n",
        "(1은 소수가 아닙니다.)\n",
        "\n",
        "### 제한 조건\n",
        "\n",
        "- n은 2이상 1000000이하의 자연수입니다.\n",
        "\n",
        "### 입출력 예\n",
        "\n",
        "| n    | result |\n",
        "| ---- | ------ |\n",
        "| 10   | 4      |\n",
        "| 5    | 3      |\n",
        "\n",
        "### 입출력 예 설명\n",
        "\n",
        "* **입출력 예 #1**\n",
        "1부터 10 사이의 소수는 [2,3,5,7] 4개가 존재하므로 4를 반환\n",
        "\n",
        "* **입출력 예 #2**\n",
        "1부터 5 사이의 소수는 [2,3,5] 3개가 존재하므로 3를 반환"
      ],
      "metadata": {
        "id": "ufI2ak8I-HFY"
      }
    },
    {
      "cell_type": "code",
      "source": [
        "def solution(n):\n",
        "    arr = set(range(2, n+1))\n",
        "    for i in range(2, n+1):\n",
        "        if i in arr:\n",
        "            # i의 배수의 값들 제거\n",
        "            arr -= set(range(i*2, n+1, i))\n",
        "            \n",
        "    return len(arr)"
      ],
      "metadata": {
        "id": "PA-NhnHjLRMR"
      },
      "execution_count": null,
      "outputs": []
    },
    {
      "cell_type": "markdown",
      "source": [
        "**실행 결과**\n",
        "\n",
        "```\n",
        "테스트 1\n",
        "입력값 〉\t10\n",
        "기댓값 〉\t4\n",
        "\n",
        "테스트 2\n",
        "입력값 〉\t5\n",
        "기댓값 〉\t3\n",
        "```"
      ],
      "metadata": {
        "id": "0K7lq05A_5sj"
      }
    },
    {
      "cell_type": "code",
      "source": [
        "print(\n",
        "    solution(10),\n",
        "    solution(5),\n",
        "    sep=\"\\n\"\n",
        ")"
      ],
      "metadata": {
        "colab": {
          "base_uri": "https://localhost:8080/"
        },
        "id": "QwAm0_EZ_xU6",
        "outputId": "0b493295-2b88-4c68-d345-6d0de381cd05"
      },
      "execution_count": null,
      "outputs": [
        {
          "output_type": "stream",
          "name": "stdout",
          "text": [
            "4\n",
            "3\n"
          ]
        }
      ]
    }
  ],
  "metadata": {
    "colab": {
      "collapsed_sections": [],
      "name": "algorithm/0_warming_up/n_testname.ipynb",
      "provenance": []
    },
    "kernelspec": {
      "display_name": "Python 3",
      "name": "python3"
    }
  },
  "nbformat": 4,
  "nbformat_minor": 0
}