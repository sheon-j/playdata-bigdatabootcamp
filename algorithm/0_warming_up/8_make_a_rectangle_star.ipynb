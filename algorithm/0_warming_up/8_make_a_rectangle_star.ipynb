{
  "cells": [
    {
      "cell_type": "markdown",
      "source": [
        "![programmers](https://theme.zdassets.com/theme_assets/9483888/f7b9b68643e5a9a3bda6dc5a238152b1d467c9f0.png)\n",
        "# 직사각형 별찍기\n",
        "by [sheon-j](https://github.com/sheon-j)\n",
        "### 문제 설명\n",
        "\n",
        "이 문제에는 표준 입력으로 두 개의 정수 n과 m이 주어집니다.\n",
        "\n",
        "별(*) 문자를 이용해 가로의 길이가 n, 세로의 길이가 m인 직사각형 형태를 출력해보세요.\n",
        "\n",
        "------\n",
        "\n",
        "### 제한 조건\n",
        "\n",
        "- n과 m은 각각 1000 이하인 자연수입니다.\n",
        "\n",
        "------\n",
        "\n",
        "### 예시\n",
        "\n",
        "입력\n",
        "\n",
        "```\n",
        "5 3\n",
        "```\n",
        "\n",
        "출력\n",
        "\n",
        "```\n",
        "*****\n",
        "*****\n",
        "*****\n",
        "```"
      ],
      "metadata": {
        "id": "ufI2ak8I-HFY"
      }
    },
    {
      "cell_type": "code",
      "source": [
        "# 1. n과 m split -> int\n",
        "n, m = map(int, input().strip().split(' '))\n",
        "\n",
        "# 2. 출력\n",
        "for _ in range(m):\n",
        "    print(\"*\" * n)"
      ],
      "metadata": {
        "id": "9lbO2QWx-za5",
        "outputId": "37bcecc1-f0a0-4f60-9fa2-a6e53b7fd9d0",
        "colab": {
          "base_uri": "https://localhost:8080/"
        }
      },
      "execution_count": 2,
      "outputs": [
        {
          "output_type": "stream",
          "name": "stdout",
          "text": [
            "5 3\n",
            "*****\n",
            "*****\n",
            "*****\n"
          ]
        }
      ]
    },
    {
      "cell_type": "markdown",
      "source": [
        "**실행 결과**\n",
        "\n",
        "```\n",
        "테스트 1\n",
        "입력값 〉\t\"5 3\"\n",
        "기댓값 〉\t*****\n",
        "          *****\n",
        "          *****\n",
        "\n",
        "테스트 2\n",
        "입력값 〉\t\"2 2\"\n",
        "기댓값 〉\t**\n",
        "          **\n",
        "\"\n",
        "```"
      ],
      "metadata": {
        "id": "0K7lq05A_5sj"
      }
    }
  ],
  "metadata": {
    "colab": {
      "collapsed_sections": [],
      "name": "algorithm/0_warming_up/n_testname.ipynb",
      "provenance": []
    },
    "kernelspec": {
      "display_name": "Python 3",
      "name": "python3"
    }
  },
  "nbformat": 4,
  "nbformat_minor": 0
}