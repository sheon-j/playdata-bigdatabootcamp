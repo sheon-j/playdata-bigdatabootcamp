{
  "cells": [
    {
      "cell_type": "markdown",
      "source": [
        "![programmers](https://theme.zdassets.com/theme_assets/9483888/f7b9b68643e5a9a3bda6dc5a238152b1d467c9f0.png)\n",
        "# 행렬의 덧셈\n",
        "by [sheon-j](https://github.com/sheon-j)\n",
        "### 문제 설명\n",
        "\n",
        "행렬의 덧셈은 행과 열의 크기가 같은 두 행렬의 같은 행, 같은 열의 값을 서로 더한 결과가 됩니다. \n",
        "\n",
        "2개의 행렬 arr1과 arr2를 입력받아, 행렬 덧셈의 결과를 반환하는 함수, solution을 완성해주세요.\n",
        "\n",
        "### 제한사항\n",
        "\n",
        "- 행렬 arr1, arr2의 행과 열의 길이는 500을 넘지 않습니다.\n",
        "\n",
        "### 입출력 예\n",
        "\n",
        "| arr1          | arr2          | return        |\n",
        "| ------------- | ------------- | ------------- |\n",
        "| [[1,2],[2,3]] | [[3,4],[5,6]] | [[4,6],[7,9]] |\n",
        "| [[1],[2]]     | [[3],[4]]     | [[4],[6]]     |\n",
        "\n"
      ],
      "metadata": {
        "id": "ufI2ak8I-HFY"
      }
    },
    {
      "cell_type": "code",
      "source": [
        "def solution(arr1, arr2):\n",
        "    row_range = range(len(arr1))    # 행의 범위\n",
        "    col_range = range(len(arr1[0])) # 열의 범위\n",
        "    answer = [[arr1[i][j]+arr2[i][j] for j in col_range] for i in row_range]\n",
        "    return answer"
      ],
      "metadata": {
        "id": "9lbO2QWx-za5"
      },
      "execution_count": 1,
      "outputs": []
    },
    {
      "cell_type": "markdown",
      "source": [
        "**실행 결과**\n",
        "\n",
        "```\n",
        "테스트 1\n",
        "입력값 〉\t[[1, 2], [2, 3]], [[3, 4], [5, 6]]\n",
        "기댓값 〉\t[[4, 6], [7, 9]]\n",
        "\n",
        "테스트 2\n",
        "입력값 〉\t[[1], [2]], [[3], [4]]\n",
        "기댓값 〉\t[[4], [6]]\n",
        "```"
      ],
      "metadata": {
        "id": "0K7lq05A_5sj"
      }
    },
    {
      "cell_type": "code",
      "source": [
        "print(solution([[1, 2], [2, 3]], [[3, 4], [5, 6]]))\n",
        "print(solution([[1], [2]], [[3], [4]]))"
      ],
      "metadata": {
        "colab": {
          "base_uri": "https://localhost:8080/"
        },
        "id": "QwAm0_EZ_xU6",
        "outputId": "eea9230b-e22c-4fe4-d984-fceef21c45a9"
      },
      "execution_count": 2,
      "outputs": [
        {
          "output_type": "stream",
          "name": "stdout",
          "text": [
            "[[4, 6], [7, 9]]\n",
            "[[4], [6]]\n"
          ]
        }
      ]
    }
  ],
  "metadata": {
    "colab": {
      "collapsed_sections": [],
      "name": "algorithm/0_warming_up/n_testname.ipynb",
      "provenance": []
    },
    "kernelspec": {
      "display_name": "Python 3",
      "name": "python3"
    }
  },
  "nbformat": 4,
  "nbformat_minor": 0
}