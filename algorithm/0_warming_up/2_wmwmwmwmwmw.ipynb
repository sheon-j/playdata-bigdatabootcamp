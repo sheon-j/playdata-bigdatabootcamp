{
  "cells": [
    {
      "cell_type": "markdown",
      "source": [
        "# 수박수박수박수박수박수?\n",
        "프로그래머스\n",
        "### 문제 설명\n",
        "\n",
        "길이가 n이고, \"수박수박수박수....\"와 같은 패턴을 유지하는 문자열을 리턴하는 함수, solution을 완성하세요.\n",
        "\n",
        "예를들어 n이 4이면 \"수박수박\"을 리턴하고 3이라면 \"수박수\"를 리턴하면 됩니다.\n",
        "\n",
        "### 제한 조건\n",
        "\n",
        "- n은 길이 10,000이하인 자연수입니다.\n",
        "\n",
        "### 입출력 예\n",
        "\n",
        "| n    | return     |\n",
        "| ---- | ---------- |\n",
        "| 3    | \"수박수\"   |\n",
        "| 4    | \"수박수박\" |"
      ],
      "metadata": {
        "id": "ufI2ak8I-HFY"
      }
    },
    {
      "cell_type": "code",
      "source": [
        "def solution(n):\n",
        "    # 1. 수박 패턴 배열화\n",
        "    pattern = [\"수\" if i%2!=0 else \"박\" for i in range(1, n+1)]\n",
        "    # 2. 문자열 배열 join\n",
        "    answer = \"\".join(pattern)\n",
        "    return answer"
      ],
      "metadata": {
        "id": "9lbO2QWx-za5"
      },
      "execution_count": 8,
      "outputs": []
    },
    {
      "cell_type": "markdown",
      "source": [
        "```\n",
        "테스트 1\n",
        "입력값 〉\t3\n",
        "기댓값 〉\t\"수박수\"\n",
        "\n",
        "테스트 2\n",
        "입력값 〉\t4\n",
        "기댓값 〉\t\"수박수박\"\n",
        "```"
      ],
      "metadata": {
        "id": "0K7lq05A_5sj"
      }
    },
    {
      "cell_type": "code",
      "source": [
        "print(solution(3))\n",
        "print(solution(4))"
      ],
      "metadata": {
        "colab": {
          "base_uri": "https://localhost:8080/"
        },
        "id": "QwAm0_EZ_xU6",
        "outputId": "f3e8a492-7316-4cd4-c9a9-fd5a935c692d"
      },
      "execution_count": 9,
      "outputs": [
        {
          "output_type": "stream",
          "name": "stdout",
          "text": [
            "수박수\n",
            "수박수박\n"
          ]
        }
      ]
    }
  ],
  "metadata": {
    "colab": {
      "collapsed_sections": [],
      "name": "프로그래머스",
      "provenance": []
    },
    "kernelspec": {
      "display_name": "Python 3",
      "name": "python3"
    }
  },
  "nbformat": 4,
  "nbformat_minor": 0
}