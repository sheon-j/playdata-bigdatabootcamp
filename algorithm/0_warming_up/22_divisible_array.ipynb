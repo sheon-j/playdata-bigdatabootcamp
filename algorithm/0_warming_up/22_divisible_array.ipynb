{
  "cells": [
    {
      "cell_type": "markdown",
      "source": [
        "![programmers](https://theme.zdassets.com/theme_assets/9483888/f7b9b68643e5a9a3bda6dc5a238152b1d467c9f0.png)\n",
        "# 나누어 떨어지는 숫자 배열\n",
        "\n",
        "by [sheon-j](https://github.com/sheon-j)\n",
        "\n",
        "### 문제 설명\n",
        "\n",
        "array의 각 element 중 divisor로 나누어 떨어지는 값을 오름차순으로 정렬한 배열을 반환하는 함수, solution을 작성해주세요.\n",
        "divisor로 나누어 떨어지는 element가 하나도 없다면 배열에 -1을 담아 반환하세요. \n",
        "\n",
        "### 제한사항\n",
        "\n",
        "- arr은 자연수를 담은 배열입니다.\n",
        "- 정수 i, j에 대해 i ≠ j 이면 arr[i] ≠ arr[j] 입니다.\n",
        "- divisor는 자연수입니다.\n",
        "- array는 길이 1 이상인 배열입니다.\n",
        "\n",
        "### 입출력 예\n",
        "\n",
        "| arr           | divisor | return        |\n",
        "| ------------- | ------- | ------------- |\n",
        "| [5, 9, 7, 10] | 5       | [5, 10]       |\n",
        "| [2, 36, 1, 3] | 1       | [1, 2, 3, 36] |\n",
        "| [3,2,6]       | 10      | [-1]          |\n",
        "\n",
        "### 입출력 예 설명\n",
        "\n",
        "* **입출력 예#1**\n",
        "  arr의 원소 중 5로 나누어 떨어지는 원소는 5와 10입니다. 따라서 [5, 10]을 리턴합니다.\n",
        "\n",
        "* **입출력 예#2**\n",
        "  arr의 모든 원소는 1으로 나누어 떨어집니다. 원소를 오름차순으로 정렬해 [1, 2, 3, 36]을 리턴합니다.\n",
        "\n",
        "* **입출력 예#3**\n",
        "  3, 2, 6은 10으로 나누어 떨어지지 않습니다. 나누어 떨어지는 원소가 없으므로 [-1]을 리턴합니다."
      ],
      "metadata": {
        "id": "ufI2ak8I-HFY"
      }
    },
    {
      "cell_type": "code",
      "source": [
        "def solution(arr, div):\n",
        "    # None or [-1]: None 이라면 [-1]을 반환한다.\n",
        "    # 나누었을 때 0이 나오는 조건\n",
        "    return [i for i in sorted(arr) if not(i%div)] or [-1]"
      ],
      "metadata": {
        "id": "9lbO2QWx-za5"
      },
      "execution_count": 63,
      "outputs": []
    },
    {
      "cell_type": "markdown",
      "source": [
        "**실행 결과**\n",
        "\n",
        "```\n",
        "테스트 1\n",
        "입력값 〉 [5, 9, 7, 10], 5\n",
        "기댓값 〉 [5, 10]\n",
        "\n",
        "테스트 2\n",
        "입력값 〉 [2, 36, 1, 3], 1\n",
        "기댓값 〉 [1, 2, 3, 36]\n",
        "\n",
        "테스트 3\n",
        "입력값 〉 [3, 2, 6], 10\n",
        "기댓값 〉 [-1]\n",
        "```"
      ],
      "metadata": {
        "id": "0K7lq05A_5sj"
      }
    },
    {
      "cell_type": "code",
      "source": [
        "print(\n",
        "    solution([5, 9, 7, 10], 5), \n",
        "    solution([2, 36, 1, 3], 1), \n",
        "    solution([3, 2, 6], 10),\n",
        "    sep=\"\\n\"\n",
        ")"
      ],
      "metadata": {
        "colab": {
          "base_uri": "https://localhost:8080/"
        },
        "id": "QwAm0_EZ_xU6",
        "outputId": "b59d07da-bdda-4442-cb1b-35e50d11ff93"
      },
      "execution_count": 68,
      "outputs": [
        {
          "output_type": "stream",
          "name": "stdout",
          "text": [
            "[5, 10]\n",
            "[1, 2, 3, 36]\n",
            "[-1]\n"
          ]
        }
      ]
    }
  ],
  "metadata": {
    "colab": {
      "collapsed_sections": [],
      "name": "algorithm/0_warming_up/n_testname.ipynb",
      "provenance": []
    },
    "kernelspec": {
      "display_name": "Python 3",
      "name": "python3"
    }
  },
  "nbformat": 4,
  "nbformat_minor": 0
}