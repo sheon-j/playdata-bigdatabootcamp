{
  "cells": [
    {
      "cell_type": "markdown",
      "source": [
        "![programmers](https://theme.zdassets.com/theme_assets/9483888/f7b9b68643e5a9a3bda6dc5a238152b1d467c9f0.png)\n",
        "# 모의고사\n",
        "\n",
        "by [sheon-j](https://github.com/sheon-j)\n",
        "\n",
        "### 문제 설명\n",
        "\n",
        "수포자는 수학을 포기한 사람의 준말입니다. \n",
        "\n",
        "수포자 삼인방은 모의고사에 수학 문제를 전부 찍으려 합니다. \n",
        "\n",
        "수포자는 1번 문제부터 마지막 문제까지 다음과 같이 찍습니다.\n",
        "\n",
        "1번 수포자가 찍는 방식: 1, 2, 3, 4, 5, 1, 2, 3, 4, 5, ...\n",
        "\n",
        "2번 수포자가 찍는 방식: 2, 1, 2, 3, 2, 4, 2, 5, 2, 1, 2, 3, 2, 4, 2, 5, ...\n",
        "\n",
        "3번 수포자가 찍는 방식: 3, 3, 1, 1, 2, 2, 4, 4, 5, 5, 3, 3, 1, 1, 2, 2, 4, 4, 5, 5, ...\n",
        "\n",
        "1번 문제부터 마지막 문제까지의 정답이 순서대로 들은 배열 answers가 주어졌을 때, 가장 많은 문제를 맞힌 사람이 누구인지 배열에 담아 return 하도록 solution 함수를 작성해주세요.\n",
        "\n",
        "### 제한 조건\n",
        "\n",
        "- 시험은 최대 10,000 문제로 구성되어있습니다.\n",
        "- 문제의 정답은 1, 2, 3, 4, 5중 하나입니다.\n",
        "- 가장 높은 점수를 받은 사람이 여럿일 경우, return하는 값을 오름차순 정렬해주세요.\n",
        "\n",
        "### 입출력 예\n",
        "\n",
        "| answers     | return  |\n",
        "| ----------- | ------- |\n",
        "| [1,2,3,4,5] | [1]     |\n",
        "| [1,3,2,4,2] | [1,2,3] |\n",
        "\n",
        "### 입출력 예 설명\n",
        "\n",
        "* **입출력 예 #1**\n",
        "\n",
        "  - 수포자 1은 모든 문제를 맞혔습니다.\n",
        "\n",
        "  - 수포자 2는 모든 문제를 틀렸습니다.\n",
        "\n",
        "  - 수포자 3은 모든 문제를 틀렸습니다.\n",
        "\n",
        "  * 따라서 가장 문제를 많이 맞힌 사람은 수포자 1입니다.\n",
        "\n",
        "* **입출력 예 #2**\n",
        "  - 모든 사람이 2문제씩을 맞췄습니다."
      ],
      "metadata": {
        "id": "ufI2ak8I-HFY"
      }
    },
    {
      "cell_type": "code",
      "source": [
        "def solution(answers):\n",
        "    students = [\n",
        "        [1,2,3,4,5],              # 수포자 1의 패턴\n",
        "        [2,1,2,3,2,4,2,5],        # 수포자 2의 패턴\n",
        "        [3,3,1,1,2,2,4,4,5,5]]    # 수포자 3의 패턴\n",
        "    record = [0] * 3              # 성적표\n",
        "    \n",
        "    for number, student in enumerate(students): # 수포자 시험 start\n",
        "        for i, v in enumerate(answers):         # 정답지의 index와 value\n",
        "            if student[i%len(student)] == v:    # 찍기 패턴에서 반복되도록 인덱싱 처리 \n",
        "                record[number] += 1             # 정답과 같다면 +1점\n",
        "    \n",
        "    answer = [i+1 for i, v in enumerate(record) \n",
        "              if v==max(record)]                # 성적표의 최댓값의 index에 +1\n",
        "    return answer"
      ],
      "metadata": {
        "id": "9lbO2QWx-za5"
      },
      "execution_count": 72,
      "outputs": []
    },
    {
      "cell_type": "markdown",
      "source": [
        "**실행 결과**\n",
        "\n",
        "```\n",
        "테스트 1\n",
        "입력값 〉 [1, 2, 3, 4, 5]\n",
        "기댓값 〉 [1]\n",
        "\n",
        "테스트 2\n",
        "입력값 〉 [1, 3, 2, 4, 2]\n",
        "기댓값 〉 [1, 2, 3]\n",
        "\n",
        "```"
      ],
      "metadata": {
        "id": "0K7lq05A_5sj"
      }
    },
    {
      "cell_type": "code",
      "source": [
        "print(\n",
        "    solution([1, 2, 3, 4, 5]), \n",
        "    solution([1, 3, 2, 4, 2]), \n",
        "    sep=\"\\n\"\n",
        ")"
      ],
      "metadata": {
        "colab": {
          "base_uri": "https://localhost:8080/"
        },
        "id": "QwAm0_EZ_xU6",
        "outputId": "ffcc59c5-4a93-4857-a8df-e82d1d0f2479"
      },
      "execution_count": 73,
      "outputs": [
        {
          "output_type": "stream",
          "name": "stdout",
          "text": [
            "[1]\n",
            "[1, 2, 3]\n"
          ]
        }
      ]
    }
  ],
  "metadata": {
    "colab": {
      "collapsed_sections": [],
      "name": "algorithm/0_warming_up/n_testname.ipynb",
      "provenance": []
    },
    "kernelspec": {
      "display_name": "Python 3",
      "name": "python3"
    }
  },
  "nbformat": 4,
  "nbformat_minor": 0
}