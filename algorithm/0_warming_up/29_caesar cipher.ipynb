{
  "cells": [
    {
      "cell_type": "markdown",
      "source": [
        "![programmers](https://theme.zdassets.com/theme_assets/9483888/f7b9b68643e5a9a3bda6dc5a238152b1d467c9f0.png)\n",
        "# 시저 암호\n",
        "\n",
        "by [sheon-j](https://github.com/sheon-j)\n",
        "\n",
        "### 문제 설명\n",
        "\n",
        "어떤 문장의 각 알파벳을 일정한 거리만큼 밀어서 다른 알파벳으로 바꾸는 암호화 방식을 시저 암호라고 합니다. 예를 들어 \"AB\"는 1만큼 밀면 \"BC\"가 되고, 3만큼 밀면 \"DE\"가 됩니다. \"z\"는 1만큼 밀면 \"a\"가 됩니다. 문자열 s와 거리 n을 입력받아 s를 n만큼 민 암호문을 만드는 함수, solution을 완성해 보세요.\n",
        "\n",
        "### 제한 조건\n",
        "\n",
        "- 공백은 아무리 밀어도 공백입니다.\n",
        "- s는 알파벳 소문자, 대문자, 공백으로만 이루어져 있습니다.\n",
        "- s의 길이는 8000이하입니다.\n",
        "- n은 1 이상, 25이하인 자연수입니다.\n",
        "\n",
        "### 입출력 예\n",
        "\n",
        "| s       | n    | result  |\n",
        "| ------- | ---- | ------- |\n",
        "| \"AB\"    | 1    | \"BC\"    |\n",
        "| \"z\"     | 1    | \"a\"     |\n",
        "| \"a B z\" | 4    | \"e F d\" |"
      ],
      "metadata": {
        "id": "ufI2ak8I-HFY"
      }
    },
    {
      "cell_type": "code",
      "source": [
        "def solution(s, n):\n",
        "    upper = 'ABCDEFGHIJKLMNOPQRSTUVWXYZ'\n",
        "    lower = 'abcdefghijklmnopqrstuvwxyz'\n",
        "    answer = ''\n",
        "    for char in s:\n",
        "        if char in upper: # 대문자의 경우\n",
        "            # index + n의 값을 range 안에 두기 위해 나머지 적용\n",
        "            answer += upper[(upper.index(char)+n)%len(upper)]\n",
        "        \n",
        "        elif char in lower: # 소문자의 경우\n",
        "            # index + n의 값을 range 안에 두기 위해 나머지 적용\n",
        "            answer += lower[(lower.index(char)+n)%len(lower)]\n",
        "        \n",
        "        else: # 공백자\n",
        "            answer += char\n",
        "    return answer"
      ],
      "metadata": {
        "id": "PA-NhnHjLRMR"
      },
      "execution_count": 4,
      "outputs": []
    },
    {
      "cell_type": "markdown",
      "source": [
        "**실행 결과**\n",
        "\n",
        "```\n",
        "\n",
        "테스트 1\n",
        "입력값 〉\t\"AB\", 1\n",
        "기댓값 〉\t\"BC\"\n",
        "\n",
        "테스트 2\n",
        "입력값 〉\t\"z\", 1\n",
        "기댓값 〉\t\"a\"\n",
        "\n",
        "테스트 3\n",
        "입력값 〉\t\"a B z\", 4\n",
        "기댓값 〉\t\"e F d\"\n",
        "```"
      ],
      "metadata": {
        "id": "0K7lq05A_5sj"
      }
    },
    {
      "cell_type": "code",
      "source": [
        "print(\n",
        "    solution(\"AB\", 1),\n",
        "    solution(\"z\", 1),\n",
        "    solution(\"a B z\", 4),\n",
        "    sep=\"\\n\"\n",
        ")"
      ],
      "metadata": {
        "colab": {
          "base_uri": "https://localhost:8080/"
        },
        "id": "QwAm0_EZ_xU6",
        "outputId": "4aa437fe-d6d9-4d13-8bba-b377f403bf0d"
      },
      "execution_count": 3,
      "outputs": [
        {
          "output_type": "stream",
          "name": "stdout",
          "text": [
            "5\n",
            "4\n"
          ]
        }
      ]
    }
  ],
  "metadata": {
    "colab": {
      "collapsed_sections": [],
      "name": "algorithm/0_warming_up/n_testname.ipynb",
      "provenance": []
    },
    "kernelspec": {
      "display_name": "Python 3",
      "name": "python3"
    }
  },
  "nbformat": 4,
  "nbformat_minor": 0
}